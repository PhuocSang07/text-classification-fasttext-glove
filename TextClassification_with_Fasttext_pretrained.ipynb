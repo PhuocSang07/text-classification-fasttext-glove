{
 "cells": [
  {
   "cell_type": "markdown",
   "metadata": {},
   "source": [
    "# FastText and FastText pre-train"
   ]
  },
  {
   "cell_type": "code",
   "execution_count": 21,
   "metadata": {},
   "outputs": [],
   "source": [
    "import pandas as pd\n",
    "from underthesea import word_tokenize, text_normalize\n",
    "\n",
    "from sklearn.linear_model import LogisticRegression\n",
    "from sklearn.svm import SVC\n",
    "from sklearn.tree import DecisionTreeClassifier\n",
    "from sklearn.ensemble import RandomForestClassifier\n",
    "from sklearn.metrics import classification_report\n",
    "from sklearn.model_selection import GridSearchCV"
   ]
  },
  {
   "cell_type": "markdown",
   "metadata": {},
   "source": [
    "# Data Preprocessing"
   ]
  },
  {
   "cell_type": "code",
   "execution_count": 60,
   "metadata": {},
   "outputs": [
    {
     "data": {
      "text/html": [
       "<div>\n",
       "<style scoped>\n",
       "    .dataframe tbody tr th:only-of-type {\n",
       "        vertical-align: middle;\n",
       "    }\n",
       "\n",
       "    .dataframe tbody tr th {\n",
       "        vertical-align: top;\n",
       "    }\n",
       "\n",
       "    .dataframe thead th {\n",
       "        text-align: right;\n",
       "    }\n",
       "</style>\n",
       "<table border=\"1\" class=\"dataframe\">\n",
       "  <thead>\n",
       "    <tr style=\"text-align: right;\">\n",
       "      <th></th>\n",
       "      <th>Unnamed: 0</th>\n",
       "      <th>id</th>\n",
       "      <th>text</th>\n",
       "      <th>label</th>\n",
       "    </tr>\n",
       "  </thead>\n",
       "  <tbody>\n",
       "    <tr>\n",
       "      <th>0</th>\n",
       "      <td>0</td>\n",
       "      <td>3113b477-4ea3-4c3f-82d7-6ae6b8c12a3b</td>\n",
       "      <td>Noi cho biet k rãnh viet voi loai ng nhu chị c...</td>\n",
       "      <td>['harassment']</td>\n",
       "    </tr>\n",
       "    <tr>\n",
       "      <th>1</th>\n",
       "      <td>1</td>\n",
       "      <td>de5cf256-3879-413d-9e33-2c3be7e2e0c1</td>\n",
       "      <td>-Giải ngân cực nhanh\\n-mức vay lên đến 15tr\\n👉...</td>\n",
       "      <td>['dangerous_content']</td>\n",
       "    </tr>\n",
       "    <tr>\n",
       "      <th>2</th>\n",
       "      <td>2</td>\n",
       "      <td>975a369c-acc2-487c-84dd-64a4764203cf</td>\n",
       "      <td>Thủ tục đơn giản đăng ký khoản vay giải ngân l...</td>\n",
       "      <td>['dangerous_content']</td>\n",
       "    </tr>\n",
       "    <tr>\n",
       "      <th>3</th>\n",
       "      <td>3</td>\n",
       "      <td>45aa9b39-c58a-4c91-941a-fe6373d009f5</td>\n",
       "      <td>săn mãi con đen v5 cả tối k đc an ủi đc con be...</td>\n",
       "      <td>['normal']</td>\n",
       "    </tr>\n",
       "    <tr>\n",
       "      <th>4</th>\n",
       "      <td>4</td>\n",
       "      <td>99f6d7e6-b1c0-4849-9430-c60137737ead</td>\n",
       "      <td>zalo 0375841653 ae nào mua kết bạn zalo đặt hà...</td>\n",
       "      <td>['dangerous_content']</td>\n",
       "    </tr>\n",
       "  </tbody>\n",
       "</table>\n",
       "</div>"
      ],
      "text/plain": [
       "   Unnamed: 0                                    id  \\\n",
       "0           0  3113b477-4ea3-4c3f-82d7-6ae6b8c12a3b   \n",
       "1           1  de5cf256-3879-413d-9e33-2c3be7e2e0c1   \n",
       "2           2  975a369c-acc2-487c-84dd-64a4764203cf   \n",
       "3           3  45aa9b39-c58a-4c91-941a-fe6373d009f5   \n",
       "4           4  99f6d7e6-b1c0-4849-9430-c60137737ead   \n",
       "\n",
       "                                                text                  label  \n",
       "0  Noi cho biet k rãnh viet voi loai ng nhu chị c...         ['harassment']  \n",
       "1  -Giải ngân cực nhanh\\n-mức vay lên đến 15tr\\n👉...  ['dangerous_content']  \n",
       "2  Thủ tục đơn giản đăng ký khoản vay giải ngân l...  ['dangerous_content']  \n",
       "3  săn mãi con đen v5 cả tối k đc an ủi đc con be...             ['normal']  \n",
       "4  zalo 0375841653 ae nào mua kết bạn zalo đặt hà...  ['dangerous_content']  "
      ]
     },
     "execution_count": 60,
     "metadata": {},
     "output_type": "execute_result"
    }
   ],
   "source": [
    "df = pd.read_csv('facebook_comment_2k7.csv')\n",
    "df.head()"
   ]
  },
  {
   "cell_type": "code",
   "execution_count": 61,
   "metadata": {},
   "outputs": [
    {
     "data": {
      "text/html": [
       "<div>\n",
       "<style scoped>\n",
       "    .dataframe tbody tr th:only-of-type {\n",
       "        vertical-align: middle;\n",
       "    }\n",
       "\n",
       "    .dataframe tbody tr th {\n",
       "        vertical-align: top;\n",
       "    }\n",
       "\n",
       "    .dataframe thead th {\n",
       "        text-align: right;\n",
       "    }\n",
       "</style>\n",
       "<table border=\"1\" class=\"dataframe\">\n",
       "  <thead>\n",
       "    <tr style=\"text-align: right;\">\n",
       "      <th></th>\n",
       "      <th>text</th>\n",
       "      <th>label</th>\n",
       "    </tr>\n",
       "  </thead>\n",
       "  <tbody>\n",
       "    <tr>\n",
       "      <th>0</th>\n",
       "      <td>Noi cho biet k rãnh viet voi loai ng nhu chị c...</td>\n",
       "      <td>['harassment']</td>\n",
       "    </tr>\n",
       "    <tr>\n",
       "      <th>1</th>\n",
       "      <td>-Giải ngân cực nhanh\\n-mức vay lên đến 15tr\\n👉...</td>\n",
       "      <td>['dangerous_content']</td>\n",
       "    </tr>\n",
       "    <tr>\n",
       "      <th>2</th>\n",
       "      <td>Thủ tục đơn giản đăng ký khoản vay giải ngân l...</td>\n",
       "      <td>['dangerous_content']</td>\n",
       "    </tr>\n",
       "    <tr>\n",
       "      <th>3</th>\n",
       "      <td>săn mãi con đen v5 cả tối k đc an ủi đc con be...</td>\n",
       "      <td>['normal']</td>\n",
       "    </tr>\n",
       "    <tr>\n",
       "      <th>4</th>\n",
       "      <td>zalo 0375841653 ae nào mua kết bạn zalo đặt hà...</td>\n",
       "      <td>['dangerous_content']</td>\n",
       "    </tr>\n",
       "  </tbody>\n",
       "</table>\n",
       "</div>"
      ],
      "text/plain": [
       "                                                text                  label\n",
       "0  Noi cho biet k rãnh viet voi loai ng nhu chị c...         ['harassment']\n",
       "1  -Giải ngân cực nhanh\\n-mức vay lên đến 15tr\\n👉...  ['dangerous_content']\n",
       "2  Thủ tục đơn giản đăng ký khoản vay giải ngân l...  ['dangerous_content']\n",
       "3  săn mãi con đen v5 cả tối k đc an ủi đc con be...             ['normal']\n",
       "4  zalo 0375841653 ae nào mua kết bạn zalo đặt hà...  ['dangerous_content']"
      ]
     },
     "execution_count": 61,
     "metadata": {},
     "output_type": "execute_result"
    }
   ],
   "source": [
    "df = df.drop(['Unnamed: 0', 'id'], axis=1)\n",
    "df.head()"
   ]
  },
  {
   "cell_type": "code",
   "execution_count": 4,
   "metadata": {},
   "outputs": [
    {
     "name": "stdout",
     "output_type": "stream",
     "text": [
      "(2700, 2)\n"
     ]
    }
   ],
   "source": [
    "print(df.shape)"
   ]
  },
  {
   "cell_type": "markdown",
   "metadata": {},
   "source": [
    "Đối với những sample có 2 label trở lên thì tách thành các sample riêng chỉ với 1 label"
   ]
  },
  {
   "cell_type": "code",
   "execution_count": 62,
   "metadata": {},
   "outputs": [
    {
     "data": {
      "text/html": [
       "<div>\n",
       "<style scoped>\n",
       "    .dataframe tbody tr th:only-of-type {\n",
       "        vertical-align: middle;\n",
       "    }\n",
       "\n",
       "    .dataframe tbody tr th {\n",
       "        vertical-align: top;\n",
       "    }\n",
       "\n",
       "    .dataframe thead th {\n",
       "        text-align: right;\n",
       "    }\n",
       "</style>\n",
       "<table border=\"1\" class=\"dataframe\">\n",
       "  <thead>\n",
       "    <tr style=\"text-align: right;\">\n",
       "      <th></th>\n",
       "      <th>text</th>\n",
       "      <th>label</th>\n",
       "    </tr>\n",
       "  </thead>\n",
       "  <tbody>\n",
       "    <tr>\n",
       "      <th>0</th>\n",
       "      <td>Noi cho biet k rãnh viet voi loai ng nhu chị c...</td>\n",
       "      <td>harassment</td>\n",
       "    </tr>\n",
       "    <tr>\n",
       "      <th>1</th>\n",
       "      <td>-Giải ngân cực nhanh\\n-mức vay lên đến 15tr\\n👉...</td>\n",
       "      <td>dangerous_content</td>\n",
       "    </tr>\n",
       "    <tr>\n",
       "      <th>2</th>\n",
       "      <td>Thủ tục đơn giản đăng ký khoản vay giải ngân l...</td>\n",
       "      <td>dangerous_content</td>\n",
       "    </tr>\n",
       "    <tr>\n",
       "      <th>3</th>\n",
       "      <td>săn mãi con đen v5 cả tối k đc an ủi đc con be...</td>\n",
       "      <td>normal</td>\n",
       "    </tr>\n",
       "    <tr>\n",
       "      <th>4</th>\n",
       "      <td>zalo 0375841653 ae nào mua kết bạn zalo đặt hà...</td>\n",
       "      <td>dangerous_content</td>\n",
       "    </tr>\n",
       "  </tbody>\n",
       "</table>\n",
       "</div>"
      ],
      "text/plain": [
       "                                                text              label\n",
       "0  Noi cho biet k rãnh viet voi loai ng nhu chị c...         harassment\n",
       "1  -Giải ngân cực nhanh\\n-mức vay lên đến 15tr\\n👉...  dangerous_content\n",
       "2  Thủ tục đơn giản đăng ký khoản vay giải ngân l...  dangerous_content\n",
       "3  săn mãi con đen v5 cả tối k đc an ủi đc con be...             normal\n",
       "4  zalo 0375841653 ae nào mua kết bạn zalo đặt hà...  dangerous_content"
      ]
     },
     "execution_count": 62,
     "metadata": {},
     "output_type": "execute_result"
    }
   ],
   "source": [
    "import ast\n",
    "\n",
    "df['label'] = df['label'].apply(ast.literal_eval) # convert string to list\n",
    "df  = df.explode('label')\n",
    "df.head()"
   ]
  },
  {
   "cell_type": "code",
   "execution_count": 63,
   "metadata": {},
   "outputs": [
    {
     "name": "stdout",
     "output_type": "stream",
     "text": [
      "(2790, 2)\n"
     ]
    }
   ],
   "source": [
    "print(df.shape)"
   ]
  },
  {
   "cell_type": "code",
   "execution_count": 64,
   "metadata": {},
   "outputs": [
    {
     "data": {
      "image/png": "[encoded data removed]",
      "text/plain": [
       "<Figure size 640x480 with 1 Axes>"
      ]
     },
     "metadata": {},
     "output_type": "display_data"
    }
   ],
   "source": [
    "from collections import Counter\n",
    "from matplotlib import pyplot as plt\n",
    "\n",
    "label_count = Counter(df['label'])\n",
    "plt.bar(label_count.keys(), label_count.values())\n",
    "plt.xlabel('Label')\n",
    "plt.ylabel('Count')\n",
    "plt.xticks(rotation=30)\n",
    "plt.show()"
   ]
  },
  {
   "cell_type": "code",
   "execution_count": 65,
   "metadata": {},
   "outputs": [
    {
     "name": "stdout",
     "output_type": "stream",
     "text": [
      "Counter({'normal': 1595, 'hate_speech': 456, 'dangerous_content': 281, 'harassment': 236, 'sexaully_explixit': 222})\n"
     ]
    }
   ],
   "source": [
    "print(label_count)"
   ]
  },
  {
   "cell_type": "code",
   "execution_count": 67,
   "metadata": {},
   "outputs": [
    {
     "data": {
      "text/html": [
       "<div>\n",
       "<style scoped>\n",
       "    .dataframe tbody tr th:only-of-type {\n",
       "        vertical-align: middle;\n",
       "    }\n",
       "\n",
       "    .dataframe tbody tr th {\n",
       "        vertical-align: top;\n",
       "    }\n",
       "\n",
       "    .dataframe thead th {\n",
       "        text-align: right;\n",
       "    }\n",
       "</style>\n",
       "<table border=\"1\" class=\"dataframe\">\n",
       "  <thead>\n",
       "    <tr style=\"text-align: right;\">\n",
       "      <th></th>\n",
       "      <th>text</th>\n",
       "      <th>label</th>\n",
       "    </tr>\n",
       "  </thead>\n",
       "  <tbody>\n",
       "    <tr>\n",
       "      <th>0</th>\n",
       "      <td>Noi cho biet k rãnh viet voi loai ng nhu chị c...</td>\n",
       "      <td>harassment</td>\n",
       "    </tr>\n",
       "    <tr>\n",
       "      <th>1</th>\n",
       "      <td>- Giải ngân cực nhanh - mức vay lên đến 15 tr ...</td>\n",
       "      <td>dangerous_content</td>\n",
       "    </tr>\n",
       "    <tr>\n",
       "      <th>2</th>\n",
       "      <td>Thủ tục đơn giản đăng ký khoản vay giải ngân l...</td>\n",
       "      <td>dangerous_content</td>\n",
       "    </tr>\n",
       "    <tr>\n",
       "      <th>3</th>\n",
       "      <td>săn mãi con đen v5 cả tối k đc an ủi đc con be...</td>\n",
       "      <td>normal</td>\n",
       "    </tr>\n",
       "    <tr>\n",
       "      <th>4</th>\n",
       "      <td>zalo 0375841653 ae nào mua kết bạn zalo đặt hà...</td>\n",
       "      <td>dangerous_content</td>\n",
       "    </tr>\n",
       "  </tbody>\n",
       "</table>\n",
       "</div>"
      ],
      "text/plain": [
       "                                                text              label\n",
       "0  Noi cho biet k rãnh viet voi loai ng nhu chị c...         harassment\n",
       "1  - Giải ngân cực nhanh - mức vay lên đến 15 tr ...  dangerous_content\n",
       "2  Thủ tục đơn giản đăng ký khoản vay giải ngân l...  dangerous_content\n",
       "3  săn mãi con đen v5 cả tối k đc an ủi đc con be...             normal\n",
       "4  zalo 0375841653 ae nào mua kết bạn zalo đặt hà...  dangerous_content"
      ]
     },
     "execution_count": 67,
     "metadata": {},
     "output_type": "execute_result"
    }
   ],
   "source": [
    "import re\n",
    "def clean_text(text):\n",
    "    text = re.sub('<.*?>', '', text).strip()\n",
    "    text = re.sub('(\\s)+', r'\\1', text)\n",
    "    return text\n",
    "\n",
    "def preprocess_text(text):\n",
    "    text = text_normalize(clean_text(text))\n",
    "    return text\n",
    "    \n",
    "df['text'] = df['text'].apply(preprocess_text)\n",
    "\n",
    "df.head()"
   ]
  },
  {
   "cell_type": "code",
   "execution_count": 68,
   "metadata": {},
   "outputs": [],
   "source": [
    "from sklearn.model_selection import train_test_split\n",
    "\n",
    "X_train, X_test, y_train, y_test = train_test_split(df['text'], df['label'], test_size=0.2, random_state=42)"
   ]
  },
  {
   "cell_type": "code",
   "execution_count": 16,
   "metadata": {},
   "outputs": [],
   "source": [
    "from gensim.models.fasttext import load_facebook_vectors\n",
    "\n",
    "fastText = load_facebook_vectors('cc.vi.300.bin')"
   ]
  },
  {
   "cell_type": "markdown",
   "metadata": {},
   "source": [
    "maps sentences & paragraphs to a 300 dimensional dense vector space"
   ]
  },
  {
   "cell_type": "code",
   "execution_count": 69,
   "metadata": {},
   "outputs": [],
   "source": [
    "import numpy as np\n",
    "\n",
    "def get_sentence_vector(sentence):\n",
    "    words = word_tokenize(sentence)\n",
    "    vector = [fastText[word] for word in words if word in fastText] # find word vector of each word using the fastText model\n",
    "\n",
    "    if len(vector) == 0:\n",
    "        return np.zeros(300) # if no word in the sentence is in the fastText model, return a vector of zeros\n",
    "\n",
    "    return np.mean(vector, axis=0) # produces a single vector representation for the entire sentence instead of individual vectors for each word\n",
    "\n",
    "X_train = X_train.apply(get_sentence_vector)\n",
    "X_test = X_test.apply(get_sentence_vector)"
   ]
  },
  {
   "cell_type": "code",
   "execution_count": 71,
   "metadata": {},
   "outputs": [
    {
     "name": "stdout",
     "output_type": "stream",
     "text": [
      "['Hôm nay', 'tôi', 'đi', 'học']\n",
      "[-0.03998459 -0.09024322  0.03998923 -0.01129382 -0.01020592 -0.05625008\n",
      " -0.01545474  0.01107461  0.02221097  0.01259642 -0.01535177 -0.01670004\n",
      "  0.04531933  0.02423507 -0.02802736  0.00181671  0.01901957  0.01778849\n",
      "  0.0334981   0.06092557  0.04605487 -0.0851677   0.03711953  0.03870582\n",
      "  0.01576734  0.01439876  0.03745887  0.01776986  0.101591   -0.028581\n",
      " -0.09844563 -0.04842743  0.00315917 -0.00767461  0.0769645   0.04250296\n",
      "  0.07927462  0.03776968  0.01553182  0.01373811  0.01805595 -0.03451899\n",
      "  0.06367618  0.00381823  0.00367786  0.03406303  0.02472002  0.01171674\n",
      "  0.10197307 -0.05773519 -0.00813258 -0.11804187  0.03836709  0.02259393\n",
      "  0.02605221 -0.05120831 -0.02605844  0.00776526 -0.04185459 -0.0444543\n",
      "  0.08806551  0.04306923  0.03916912 -0.06692795 -0.03056506 -0.00039773\n",
      " -0.01790737 -0.01539941  0.04859369  0.13536358  0.03922917  0.04090336\n",
      "  0.00629604 -0.07639884 -0.07999296  0.01021366 -0.00287843 -0.03049158\n",
      "  0.02599778  0.02912754 -0.0631735  -0.02948597  0.02773569 -0.02352791\n",
      " -0.07727202  0.00164032 -0.05342489  0.0066399  -0.00220249  0.07039209\n",
      "  0.04518075  0.03243992 -0.01603185  0.06255521  0.04930994 -0.04935814\n",
      "  0.03177578  0.01350837 -0.03874167 -0.00969678 -0.04528512 -0.01890404\n",
      " -0.04088293 -0.19977096  0.04467297 -0.11567409 -0.01943439 -0.07461115\n",
      "  0.03663183 -0.00697361 -0.08646391  0.03739539  0.02698984 -0.02724553\n",
      " -0.01615939  0.02091801 -0.03077003 -0.00787671  0.00920728 -0.04259472\n",
      "  0.04356759 -0.04619481 -0.01474715  0.02170243  0.01686124  0.01099013\n",
      " -0.03301171 -0.03851687  0.04503417  0.00312272  0.00098707 -0.00535256\n",
      " -0.15853879  0.00598459 -0.00433556 -0.07847227  0.01301476 -0.02174397\n",
      "  0.03391061 -0.02412782  0.04052383  0.01474158  0.04148875 -0.05727939\n",
      "  0.15429917  0.07026958  0.04980408 -0.03780711  0.08664986  0.03625499\n",
      " -0.0239831   0.0274086   0.01856003  0.03743904  0.04450782 -0.01462274\n",
      "  0.09414622  0.06960621 -0.00865605 -0.08806478  0.02845291 -0.03011329\n",
      " -0.04302448 -0.00799994 -0.0230384   0.29840964 -0.00619918 -0.07476497\n",
      " -0.05680973  0.00720236  0.04789454  0.0412119   0.03410158 -0.07451726\n",
      "  0.01256745  0.05324392  0.00978557  0.193445    0.01213918  0.02549312\n",
      "  0.03407918  0.07429657  0.05658475 -0.003743    0.35685027 -0.05734943\n",
      " -0.07784492  0.02201392  0.07180446  0.03767021 -0.00775698  0.02633875\n",
      " -0.04113729  0.02082834  0.00518117  0.10223439 -0.02502224  0.01416888\n",
      "  0.12206307  0.02873627 -0.03445945 -0.05727706  0.06320771 -0.03538479\n",
      "  0.00965147 -0.05642758  0.03166983  0.03725468 -0.01381293  0.06113713\n",
      "  0.01099417 -0.05472149  0.04573743 -0.0375048  -0.03223038 -0.02482516\n",
      "  0.00697519  0.09510425  0.01805953  0.00252028  0.04380357 -0.05325935\n",
      " -0.03715988 -0.01272981 -0.01205787 -0.02551349  0.09962443 -0.04598508\n",
      "  0.06390387  0.01993269  0.01688866 -0.04408117 -0.01302303 -0.01544997\n",
      " -0.06603353  0.03984426  0.04893902  0.0272912   0.03246828 -0.05683221\n",
      " -0.01407513  0.08933868  0.00957315 -0.03936116  0.09131926  0.03145393\n",
      "  0.002074    0.02216264 -0.08058121 -0.00822859  0.00330101 -0.01043391\n",
      "  0.01724896 -0.05778212  0.01763553 -0.02076782 -0.06994828  0.05046363\n",
      " -0.00981648  0.01314523  0.04911055 -0.03209936  0.07531913 -0.00264475\n",
      " -0.01671831  0.05118712  0.04845092 -0.00756448  0.04835794 -0.01566776\n",
      " -0.04792673 -0.05035045  0.12063234 -0.0314097   0.03444216  0.0355144\n",
      " -0.02703277 -0.11263308 -0.00478065  0.05942753  0.03660743 -0.01544853\n",
      " -0.05125666  0.03985056 -0.12668167  0.07522403  0.0187256  -0.09675402\n",
      " -0.00584177  0.01287085 -0.02073487  0.07102842  0.04674671 -0.02134457\n",
      "  0.07672344 -0.07820223  0.10062514 -0.0744919   0.01000442  0.03122419]\n",
      "300\n"
     ]
    }
   ],
   "source": [
    "test_sentence = \"Hôm nay tôi đi học\"\n",
    "print(word_tokenize(test_sentence))\n",
    "test_embedding = get_sentence_vector(test_sentence)\n",
    "print(test_embedding)\n",
    "print(len(test_embedding))"
   ]
  },
  {
   "cell_type": "code",
   "execution_count": 72,
   "metadata": {},
   "outputs": [],
   "source": [
    "# stack the individual sentence vector into a single array.\n",
    "X_train = np.stack(X_train)\n",
    "X_test = np.stack(X_test)"
   ]
  },
  {
   "cell_type": "code",
   "execution_count": 73,
   "metadata": {},
   "outputs": [
    {
     "name": "stdout",
     "output_type": "stream",
     "text": [
      "X_train shape: (2232, 300)\n"
     ]
    }
   ],
   "source": [
    "print(\"X_train shape:\", X_train.shape)"
   ]
  },
  {
   "cell_type": "markdown",
   "metadata": {},
   "source": [
    "Tìm model tốt nhất với các param"
   ]
  },
  {
   "cell_type": "code",
   "execution_count": null,
   "metadata": {},
   "outputs": [],
   "source": []
  },
  {
   "cell_type": "code",
   "execution_count": 74,
   "metadata": {},
   "outputs": [
    {
     "name": "stderr",
     "output_type": "stream",
     "text": [
      "c:\\Users\\thanh\\AppData\\Local\\Programs\\Python\\Python311\\Lib\\site-packages\\sklearn\\linear_model\\_sag.py:350: ConvergenceWarning: The max_iter was reached which means the coef_ did not converge\n",
      "  warnings.warn(\n"
     ]
    }
   ],
   "source": [
    "# Define the parameter grids for each model\n",
    "param_grid_lr = {\n",
    "    'C': [0.001, 0.01, 0.1, 1, 10, 100],\n",
    "    'penalty': ['l1', 'l2'],\n",
    "    'solver': ['liblinear', 'saga']\n",
    "}\n",
    "\n",
    "param_grid_dt = {\n",
    "    'max_depth': [None, 10, 20, 30],\n",
    "    'min_samples_split': [2, 5, 10],\n",
    "    'min_samples_leaf': [1, 2, 4]\n",
    "}\n",
    "\n",
    "param_grid_rf = {\n",
    "    'n_estimators': [50, 100, 200],\n",
    "    'max_depth': [None, 10, 20],\n",
    "    'min_samples_split': [2, 5, 10],\n",
    "    'min_samples_leaf': [1, 2, 4]\n",
    "}\n",
    "\n",
    "param_grid_svc = {\n",
    "    'C': [0.1, 1, 10],\n",
    "    'kernel': ['linear', 'rbf'],\n",
    "    'gamma': ['scale', 'auto']\n",
    "}\n",
    "\n",
    "# Define the dictionary of models with their corresponding parameter grids\n",
    "models = {\n",
    "    \"Logistic Regression\": (LogisticRegression(), param_grid_lr),\n",
    "    \"Decision Tree Classifier\": (DecisionTreeClassifier(), param_grid_dt),\n",
    "    \"Random Forest Classifier\": (RandomForestClassifier(), param_grid_rf),\n",
    "    \"SVC\": (SVC(), param_grid_svc)\n",
    "}\n",
    "\n",
    "# Perform GridSearchCV for each model\n",
    "best_models = {}\n",
    "for model_name, (model, param_grid) in models.items():\n",
    "    grid_search = GridSearchCV(model, param_grid, cv=5, n_jobs=-1)\n",
    "    grid_search.fit(X_train, y_train)\n",
    "    best_models[model_name] = grid_search.best_estimator_"
   ]
  },
  {
   "cell_type": "code",
   "execution_count": 75,
   "metadata": {},
   "outputs": [
    {
     "name": "stdout",
     "output_type": "stream",
     "text": [
      "{'Logistic Regression': LogisticRegression(C=10, solver='saga'), 'Decision Tree Classifier': DecisionTreeClassifier(max_depth=10, min_samples_split=10), 'Random Forest Classifier': RandomForestClassifier(max_depth=20, min_samples_leaf=2, min_samples_split=5,\n",
      "                       n_estimators=50), 'SVC': SVC(C=1)}\n"
     ]
    }
   ],
   "source": [
    "print(best_models)"
   ]
  },
  {
   "cell_type": "code",
   "execution_count": 76,
   "metadata": {},
   "outputs": [
    {
     "name": "stdout",
     "output_type": "stream",
     "text": [
      "Model: Logistic Regression\n",
      "                   precision    recall  f1-score   support\n",
      "\n",
      "dangerous_content       0.91      0.73      0.81        59\n",
      "       harassment       0.47      0.13      0.21        52\n",
      "      hate_speech       0.58      0.65      0.61        83\n",
      "           normal       0.81      0.94      0.87       325\n",
      "sexaully_explixit       0.73      0.49      0.58        39\n",
      "\n",
      "         accuracy                           0.77       558\n",
      "        macro avg       0.70      0.59      0.62       558\n",
      "     weighted avg       0.75      0.77      0.75       558\n",
      "\n",
      "Model: Decision Tree Classifier\n",
      "                   precision    recall  f1-score   support\n",
      "\n",
      "dangerous_content       0.59      0.61      0.60        59\n",
      "       harassment       0.17      0.12      0.14        52\n",
      "      hate_speech       0.33      0.33      0.33        83\n",
      "           normal       0.73      0.78      0.76       325\n",
      "sexaully_explixit       0.30      0.26      0.28        39\n",
      "\n",
      "         accuracy                           0.60       558\n",
      "        macro avg       0.42      0.42      0.42       558\n",
      "     weighted avg       0.58      0.60      0.59       558\n",
      "\n",
      "Model: Random Forest Classifier\n",
      "                   precision    recall  f1-score   support\n",
      "\n",
      "dangerous_content       1.00      0.63      0.77        59\n",
      "       harassment       0.38      0.10      0.15        52\n",
      "      hate_speech       0.62      0.53      0.57        83\n",
      "           normal       0.76      0.99      0.86       325\n",
      "sexaully_explixit       0.77      0.26      0.38        39\n",
      "\n",
      "         accuracy                           0.75       558\n",
      "        macro avg       0.71      0.50      0.55       558\n",
      "     weighted avg       0.73      0.75      0.71       558\n",
      "\n",
      "Model: SVC\n",
      "                   precision    recall  f1-score   support\n",
      "\n",
      "dangerous_content       0.98      0.71      0.82        59\n",
      "       harassment       1.00      0.08      0.14        52\n",
      "      hate_speech       0.54      0.67      0.60        83\n",
      "           normal       0.80      0.97      0.88       325\n",
      "sexaully_explixit       0.83      0.26      0.39        39\n",
      "\n",
      "         accuracy                           0.77       558\n",
      "        macro avg       0.83      0.54      0.57       558\n",
      "     weighted avg       0.80      0.77      0.73       558\n",
      "\n"
     ]
    }
   ],
   "source": [
    "for name, model in best_models.items():\n",
    "    # model.fit(X_train, y_train)\n",
    "    y_pred = model.predict(X_test)\n",
    "    print(f\"Model: {name}\")\n",
    "    print(classification_report(y_test, y_pred))"
   ]
  },
  {
   "cell_type": "code",
   "execution_count": 77,
   "metadata": {},
   "outputs": [
    {
     "data": {
      "image/png": "[encoded data removed]",
      "text/plain": [
       "<Figure size 640x480 with 1 Axes>"
      ]
     },
     "metadata": {},
     "output_type": "display_data"
    }
   ],
   "source": [
    "from matplotlib import pyplot as plt\n",
    "\n",
    "models_accuracy = {name: model.score(X_test, y_test) for name, model in best_models.items()}\n",
    "plt.bar(models_accuracy.keys(), models_accuracy.values())\n",
    "plt.xlabel('Model')\n",
    "plt.ylabel('Accuracy')\n",
    "plt.xticks(rotation=30)\n",
    "plt.show()"
   ]
  },
  {
   "cell_type": "markdown",
   "metadata": {},
   "source": [
    "Modal default không set các param"
   ]
  },
  {
   "cell_type": "code",
   "execution_count": 78,
   "metadata": {},
   "outputs": [
    {
     "name": "stdout",
     "output_type": "stream",
     "text": [
      "Model: Logistic Regression\n",
      "                   precision    recall  f1-score   support\n",
      "\n",
      "dangerous_content       0.97      0.59      0.74        59\n",
      "       harassment       1.00      0.06      0.11        52\n",
      "      hate_speech       0.56      0.57      0.56        83\n",
      "           normal       0.74      0.98      0.84       325\n",
      "sexaully_explixit       0.67      0.10      0.18        39\n",
      "\n",
      "         accuracy                           0.73       558\n",
      "        macro avg       0.79      0.46      0.49       558\n",
      "     weighted avg       0.76      0.73      0.67       558\n",
      "\n",
      "Model: Decision Tree Classifier\n",
      "                   precision    recall  f1-score   support\n",
      "\n",
      "dangerous_content       0.68      0.66      0.67        59\n",
      "       harassment       0.25      0.29      0.27        52\n",
      "      hate_speech       0.34      0.34      0.34        83\n",
      "           normal       0.78      0.74      0.76       325\n",
      "sexaully_explixit       0.23      0.31      0.26        39\n",
      "\n",
      "         accuracy                           0.60       558\n",
      "        macro avg       0.46      0.47      0.46       558\n",
      "     weighted avg       0.62      0.60      0.61       558\n",
      "\n",
      "Model: Random Forest Classifier\n",
      "                   precision    recall  f1-score   support\n",
      "\n",
      "dangerous_content       1.00      0.63      0.77        59\n",
      "       harassment       0.31      0.08      0.12        52\n",
      "      hate_speech       0.63      0.51      0.56        83\n",
      "           normal       0.75      0.98      0.85       325\n",
      "sexaully_explixit       0.69      0.23      0.35        39\n",
      "\n",
      "         accuracy                           0.74       558\n",
      "        macro avg       0.67      0.49      0.53       558\n",
      "     weighted avg       0.71      0.74      0.70       558\n",
      "\n",
      "Model: SVC\n",
      "                   precision    recall  f1-score   support\n",
      "\n",
      "dangerous_content       0.98      0.71      0.82        59\n",
      "       harassment       1.00      0.08      0.14        52\n",
      "      hate_speech       0.54      0.67      0.60        83\n",
      "           normal       0.80      0.97      0.88       325\n",
      "sexaully_explixit       0.83      0.26      0.39        39\n",
      "\n",
      "         accuracy                           0.77       558\n",
      "        macro avg       0.83      0.54      0.57       558\n",
      "     weighted avg       0.80      0.77      0.73       558\n",
      "\n"
     ]
    }
   ],
   "source": [
    "models = {\n",
    "    \"Logistic Regression\": LogisticRegression(),\n",
    "    \"Decision Tree Classifier\": DecisionTreeClassifier(),\n",
    "    \"Random Forest Classifier\": RandomForestClassifier(),\n",
    "    \"SVC\": SVC()\n",
    "}\n",
    "\n",
    "for name, model in models.items():\n",
    "    model.fit(X_train, y_train)\n",
    "    y_pred = model.predict(X_test)\n",
    "    print(f\"Model: {name}\")\n",
    "    print(classification_report(y_test, y_pred))"
   ]
  },
  {
   "cell_type": "code",
   "execution_count": 79,
   "metadata": {},
   "outputs": [
    {
     "data": {
      "image/png": "[encoded data removed]",
      "text/plain": [
       "<Figure size 640x480 with 1 Axes>"
      ]
     },
     "metadata": {},
     "output_type": "display_data"
    }
   ],
   "source": [
    "from matplotlib import pyplot as plt\n",
    "\n",
    "models_accuracy = {name: model.score(X_test, y_test) for name, model in models.items()}\n",
    "plt.bar(models_accuracy.keys(), models_accuracy.values())\n",
    "plt.xlabel('Model')\n",
    "plt.ylabel('Accuracy')\n",
    "plt.xticks(rotation=30)\n",
    "plt.show()"
   ]
  }
 ],
 "metadata": {
  "kernelspec": {
   "display_name": "Python 3 (ipykernel)",
   "language": "python",
   "name": "python3"
  },
  "language_info": {
   "codemirror_mode": {
    "name": "ipython",
    "version": 3
   },
   "file_extension": ".py",
   "mimetype": "text/x-python",
   "name": "python",
   "nbconvert_exporter": "python",
   "pygments_lexer": "ipython3",
   "version": "3.11.4"
  }
 },
 "nbformat": 4,
 "nbformat_minor": 2
}
