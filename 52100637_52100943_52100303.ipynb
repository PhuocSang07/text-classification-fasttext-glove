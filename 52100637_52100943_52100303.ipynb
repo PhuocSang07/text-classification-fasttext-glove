{
 "cells": [
  {
   "cell_type": "code",
   "execution_count": null,
   "metadata": {
    "colab": {
     "base_uri": "https://localhost:8080/"
    },
    "id": "YMgm946kwIKg",
    "outputId": "3cc16112-4b76-4fce-a60e-ef73bfdc834f"
   },
   "outputs": [
    {
     "name": "stdout",
     "output_type": "stream",
     "text": [
      "Mounted at /content/drive\n"
     ]
    }
   ],
   "source": [
    "from google.colab import drive\n",
    "drive.mount('/content/drive')"
   ]
  },
  {
   "cell_type": "code",
   "execution_count": null,
   "metadata": {
    "id": "uGvol6ExwTir"
   },
   "outputs": [],
   "source": [
    "path = \"/content/drive/MyDrive/Datasets/NLP/facebook_comment_2k7.csv\""
   ]
  },
  {
   "cell_type": "markdown",
   "metadata": {
    "id": "9jyyOEARb4La"
   },
   "source": [
    "# Read data from csv file"
   ]
  },
  {
   "cell_type": "code",
   "execution_count": null,
   "metadata": {
    "id": "YD0y-GRkw0Tv"
   },
   "outputs": [],
   "source": [
    "import pandas as pd\n",
    "import numpy as np"
   ]
  },
  {
   "cell_type": "code",
   "execution_count": null,
   "metadata": {
    "colab": {
     "base_uri": "https://localhost:8080/",
     "height": 423
    },
    "id": "fTfsBTC7w3Cr",
    "outputId": "e0bb39ae-fb42-4239-864e-db234896a11b"
   },
   "outputs": [
    {
     "data": {
      "application/vnd.google.colaboratory.intrinsic+json": {
       "summary": "{\n  \"name\": \"df\",\n  \"rows\": 2700,\n  \"fields\": [\n    {\n      \"column\": \"Unnamed: 0\",\n      \"properties\": {\n        \"dtype\": \"number\",\n        \"std\": 779,\n        \"min\": 0,\n        \"max\": 2699,\n        \"num_unique_values\": 2700,\n        \"samples\": [\n          1339,\n          1222,\n          1106\n        ],\n        \"semantic_type\": \"\",\n        \"description\": \"\"\n      }\n    },\n    {\n      \"column\": \"id\",\n      \"properties\": {\n        \"dtype\": \"string\",\n        \"num_unique_values\": 2700,\n        \"samples\": [\n          \"2de98cf9-3a34-43ce-8523-ed5dc18028d6\",\n          \"62bf6d7f-c690-40fe-bbc3-82a8a31365e9\",\n          \"f3abed4f-0012-432a-b162-6ca5dcc35784\"\n        ],\n        \"semantic_type\": \"\",\n        \"description\": \"\"\n      }\n    },\n    {\n      \"column\": \"text\",\n      \"properties\": {\n        \"dtype\": \"string\",\n        \"num_unique_values\": 2536,\n        \"samples\": [\n          \"\\ud83d\\udc81 Cashwagon - vay online 1-4tr cho l\\u1ea7n vay \\u0111\\u1ea7u ti\\u00ean k t\\u00ednh l\\u00e3i xu\\u1ea5t 10 ng\\u00e0y \\u0111\\u1ea7u\\n\\ud83d\\udc49 \\u00c1p d\\u1ee5ng to\\u00e0n qu\\u1ed1c tr\\u1eeb H\\u1ea3i Ph\\u00f2ng v\\u00e0 Thanh H\\u00f3a cho \\u0111\\u1ed9 tu\\u1ed5i 22-60 c\\u00f3 thu nh\\u1eadp \\u1ed5n \\u0111\\u1ecbnh.\\n\\ud83d\\udcb0 Click v\\u00e0o link \\u0111\\u1ec3 \\u0111\\u0103ng k\\u00ed\\n https://shorten.asia/f48s4c4t\\n\\u23e9 Th\\u1ee7 t\\u1ee5c online \\u0111\\u01a1n gi\\u1ea3n ch\\u1ec9 c\\u1ea7n cmnd, duy\\u1ec7t trong 5p, gi\\u1ea3i ng\\u00e2n trong ng\\u00e0y.\",\n          \"-Vay 20tr tr\\u1ea3 g\\u00f3p 24 th\\u00e1ng ,M\\u1ed7i th\\u00e1ng tr\\u1ea3 t\\u1eeb 1tr, ko ph\\u00ed c\\u01b0\\u1edbc,ko th\\u1ebf ch\\u1ea5p ...\\nCh\\u1ec9 c\\u1ea7n CMT+SIM VIETTEL\\nAi c\\u1ea7n h\\u1ed7 tr\\u1ee3 ib em h\\u1ed7 tr\\u1ee3 mi\\u1ec5n ph\\u00ed\",\n          \"Cao Tu\\u1ea5n V\\u0169  b\\u00e2ng r\\u1eebng enzo h\\u01a1n h\\u1eb3n ti\\u1ec1n capheny m\\u00e0 c\\u0169ng \\u0111\\u00e2u c\\u00f3 b\\u1eaft \\u0111c n\\u00f3 \\u0111\\u00e2u, v\\u00e0o b\\u1eaft n\\u00f3 b\\u1eadt cung t\\u00e0 ma l\\u00ean s\\u1ea5y cho ch\\u1ebft ng\\u01b0\\u1ee3c . N\\u1ebfu k \\u0111\\u00e1nh th\\u00ec c\\u1ea5m \\u0111i \\u0111\\u1eb1ng n\\u00e0y th\\u1ea3 ra 2 v\\u00e1n n\\u00f3 s\\u1ea5y cho\"\n        ],\n        \"semantic_type\": \"\",\n        \"description\": \"\"\n      }\n    },\n    {\n      \"column\": \"label\",\n      \"properties\": {\n        \"dtype\": \"category\",\n        \"num_unique_values\": 12,\n        \"samples\": [\n          \"['harassment', 'sexaully_explixit']\",\n          \"['sexaully_explixit', 'dangerous_content']\",\n          \"['harassment']\"\n        ],\n        \"semantic_type\": \"\",\n        \"description\": \"\"\n      }\n    }\n  ]\n}",
       "type": "dataframe",
       "variable_name": "df"
      },
      "text/html": [
       "\n",
       "  <div id=\"df-422af054-4866-4d28-b333-3cd43f843340\" class=\"colab-df-container\">\n",
       "    <div>\n",
       "<style scoped>\n",
       "    .dataframe tbody tr th:only-of-type {\n",
       "        vertical-align: middle;\n",
       "    }\n",
       "\n",
       "    .dataframe tbody tr th {\n",
       "        vertical-align: top;\n",
       "    }\n",
       "\n",
       "    .dataframe thead th {\n",
       "        text-align: right;\n",
       "    }\n",
       "</style>\n",
       "<table border=\"1\" class=\"dataframe\">\n",
       "  <thead>\n",
       "    <tr style=\"text-align: right;\">\n",
       "      <th></th>\n",
       "      <th>Unnamed: 0</th>\n",
       "      <th>id</th>\n",
       "      <th>text</th>\n",
       "      <th>label</th>\n",
       "    </tr>\n",
       "  </thead>\n",
       "  <tbody>\n",
       "    <tr>\n",
       "      <th>0</th>\n",
       "      <td>0</td>\n",
       "      <td>3113b477-4ea3-4c3f-82d7-6ae6b8c12a3b</td>\n",
       "      <td>Noi cho biet k rãnh viet voi loai ng nhu chị c...</td>\n",
       "      <td>['harassment']</td>\n",
       "    </tr>\n",
       "    <tr>\n",
       "      <th>1</th>\n",
       "      <td>1</td>\n",
       "      <td>de5cf256-3879-413d-9e33-2c3be7e2e0c1</td>\n",
       "      <td>-Giải ngân cực nhanh\\n-mức vay lên đến 15tr\\n👉...</td>\n",
       "      <td>['dangerous_content']</td>\n",
       "    </tr>\n",
       "    <tr>\n",
       "      <th>2</th>\n",
       "      <td>2</td>\n",
       "      <td>975a369c-acc2-487c-84dd-64a4764203cf</td>\n",
       "      <td>Thủ tục đơn giản đăng ký khoản vay giải ngân l...</td>\n",
       "      <td>['dangerous_content']</td>\n",
       "    </tr>\n",
       "    <tr>\n",
       "      <th>3</th>\n",
       "      <td>3</td>\n",
       "      <td>45aa9b39-c58a-4c91-941a-fe6373d009f5</td>\n",
       "      <td>săn mãi con đen v5 cả tối k đc an ủi đc con be...</td>\n",
       "      <td>['normal']</td>\n",
       "    </tr>\n",
       "    <tr>\n",
       "      <th>4</th>\n",
       "      <td>4</td>\n",
       "      <td>99f6d7e6-b1c0-4849-9430-c60137737ead</td>\n",
       "      <td>zalo 0375841653 ae nào mua kết bạn zalo đặt hà...</td>\n",
       "      <td>['dangerous_content']</td>\n",
       "    </tr>\n",
       "    <tr>\n",
       "      <th>...</th>\n",
       "      <td>...</td>\n",
       "      <td>...</td>\n",
       "      <td>...</td>\n",
       "      <td>...</td>\n",
       "    </tr>\n",
       "    <tr>\n",
       "      <th>2695</th>\n",
       "      <td>2695</td>\n",
       "      <td>bf1a247d-3b42-44c1-928b-2c9c94ffccbb</td>\n",
       "      <td>chuong trinh nay co ap dung cho mua dam ngu ko ad</td>\n",
       "      <td>['normal']</td>\n",
       "    </tr>\n",
       "    <tr>\n",
       "      <th>2696</th>\n",
       "      <td>2696</td>\n",
       "      <td>c4366e03-d2bb-4cc4-9e89-e4abec48e6bf</td>\n",
       "      <td>Nguyễn Hoa kkk thoii thì chấp nhận làm nữ phản...</td>\n",
       "      <td>['normal']</td>\n",
       "    </tr>\n",
       "    <tr>\n",
       "      <th>2697</th>\n",
       "      <td>2697</td>\n",
       "      <td>aa8721e2-baec-4077-b4fc-b426c518026e</td>\n",
       "      <td>Đổng khiết.một cô gái tài hoa,thuần khiê...</td>\n",
       "      <td>['normal']</td>\n",
       "    </tr>\n",
       "    <tr>\n",
       "      <th>2698</th>\n",
       "      <td>2698</td>\n",
       "      <td>9ea40a63-dedd-40ec-a7e4-5a951471be61</td>\n",
       "      <td>Chào anh/chị! Cảm ơn anh/chị đã quan tâm tới d...</td>\n",
       "      <td>['normal']</td>\n",
       "    </tr>\n",
       "    <tr>\n",
       "      <th>2699</th>\n",
       "      <td>2699</td>\n",
       "      <td>66141c01-57f3-4124-98a7-271d57d28032</td>\n",
       "      <td>Trọng's Oppa's bố trẻ m còn dzai hơn th bố ông...</td>\n",
       "      <td>['hate_speech']</td>\n",
       "    </tr>\n",
       "  </tbody>\n",
       "</table>\n",
       "<p>2700 rows × 4 columns</p>\n",
       "</div>\n",
       "    <div class=\"colab-df-buttons\">\n",
       "\n",
       "  <div class=\"colab-df-container\">\n",
       "    <button class=\"colab-df-convert\" onclick=\"convertToInteractive('df-422af054-4866-4d28-b333-3cd43f843340')\"\n",
       "            title=\"Convert this dataframe to an interactive table.\"\n",
       "            style=\"display:none;\">\n",
       "\n",
       "  <svg xmlns=\"http://www.w3.org/2000/svg\" height=\"24px\" viewBox=\"0 -960 960 960\">\n",
       "    <path d=\"M120-120v-720h720v720H120Zm60-500h600v-160H180v160Zm220 220h160v-160H400v160Zm0 220h160v-160H400v160ZM180-400h160v-160H180v160Zm440 0h160v-160H620v160ZM180-180h160v-160H180v160Zm440 0h160v-160H620v160Z\"/>\n",
       "  </svg>\n",
       "    </button>\n",
       "\n",
       "  <style>\n",
       "    .colab-df-container {\n",
       "      display:flex;\n",
       "      gap: 12px;\n",
       "    }\n",
       "\n",
       "    .colab-df-convert {\n",
       "      background-color: #E8F0FE;\n",
       "      border: none;\n",
       "      border-radius: 50%;\n",
       "      cursor: pointer;\n",
       "      display: none;\n",
       "      fill: #1967D2;\n",
       "      height: 32px;\n",
       "      padding: 0 0 0 0;\n",
       "      width: 32px;\n",
       "    }\n",
       "\n",
       "    .colab-df-convert:hover {\n",
       "      background-color: #E2EBFA;\n",
       "      box-shadow: 0px 1px 2px rgba(60, 64, 67, 0.3), 0px 1px 3px 1px rgba(60, 64, 67, 0.15);\n",
       "      fill: #174EA6;\n",
       "    }\n",
       "\n",
       "    .colab-df-buttons div {\n",
       "      margin-bottom: 4px;\n",
       "    }\n",
       "\n",
       "    [theme=dark] .colab-df-convert {\n",
       "      background-color: #3B4455;\n",
       "      fill: #D2E3FC;\n",
       "    }\n",
       "\n",
       "    [theme=dark] .colab-df-convert:hover {\n",
       "      background-color: #434B5C;\n",
       "      box-shadow: 0px 1px 3px 1px rgba(0, 0, 0, 0.15);\n",
       "      filter: drop-shadow(0px 1px 2px rgba(0, 0, 0, 0.3));\n",
       "      fill: #FFFFFF;\n",
       "    }\n",
       "  </style>\n",
       "\n",
       "    <script>\n",
       "      const buttonEl =\n",
       "        document.querySelector('#df-422af054-4866-4d28-b333-3cd43f843340 button.colab-df-convert');\n",
       "      buttonEl.style.display =\n",
       "        google.colab.kernel.accessAllowed ? 'block' : 'none';\n",
       "\n",
       "      async function convertToInteractive(key) {\n",
       "        const element = document.querySelector('#df-422af054-4866-4d28-b333-3cd43f843340');\n",
       "        const dataTable =\n",
       "          await google.colab.kernel.invokeFunction('convertToInteractive',\n",
       "                                                    [key], {});\n",
       "        if (!dataTable) return;\n",
       "\n",
       "        const docLinkHtml = 'Like what you see? Visit the ' +\n",
       "          '<a target=\"_blank\" href=https://colab.research.google.com/notebooks/data_table.ipynb>data table notebook</a>'\n",
       "          + ' to learn more about interactive tables.';\n",
       "        element.innerHTML = '';\n",
       "        dataTable['output_type'] = 'display_data';\n",
       "        await google.colab.output.renderOutput(dataTable, element);\n",
       "        const docLink = document.createElement('div');\n",
       "        docLink.innerHTML = docLinkHtml;\n",
       "        element.appendChild(docLink);\n",
       "      }\n",
       "    </script>\n",
       "  </div>\n",
       "\n",
       "\n",
       "<div id=\"df-0dccfcc4-5143-46b3-8817-a25cd38a81d5\">\n",
       "  <button class=\"colab-df-quickchart\" onclick=\"quickchart('df-0dccfcc4-5143-46b3-8817-a25cd38a81d5')\"\n",
       "            title=\"Suggest charts\"\n",
       "            style=\"display:none;\">\n",
       "\n",
       "<svg xmlns=\"http://www.w3.org/2000/svg\" height=\"24px\"viewBox=\"0 0 24 24\"\n",
       "     width=\"24px\">\n",
       "    <g>\n",
       "        <path d=\"M19 3H5c-1.1 0-2 .9-2 2v14c0 1.1.9 2 2 2h14c1.1 0 2-.9 2-2V5c0-1.1-.9-2-2-2zM9 17H7v-7h2v7zm4 0h-2V7h2v10zm4 0h-2v-4h2v4z\"/>\n",
       "    </g>\n",
       "</svg>\n",
       "  </button>\n",
       "\n",
       "<style>\n",
       "  .colab-df-quickchart {\n",
       "      --bg-color: #E8F0FE;\n",
       "      --fill-color: #1967D2;\n",
       "      --hover-bg-color: #E2EBFA;\n",
       "      --hover-fill-color: #174EA6;\n",
       "      --disabled-fill-color: #AAA;\n",
       "      --disabled-bg-color: #DDD;\n",
       "  }\n",
       "\n",
       "  [theme=dark] .colab-df-quickchart {\n",
       "      --bg-color: #3B4455;\n",
       "      --fill-color: #D2E3FC;\n",
       "      --hover-bg-color: #434B5C;\n",
       "      --hover-fill-color: #FFFFFF;\n",
       "      --disabled-bg-color: #3B4455;\n",
       "      --disabled-fill-color: #666;\n",
       "  }\n",
       "\n",
       "  .colab-df-quickchart {\n",
       "    background-color: var(--bg-color);\n",
       "    border: none;\n",
       "    border-radius: 50%;\n",
       "    cursor: pointer;\n",
       "    display: none;\n",
       "    fill: var(--fill-color);\n",
       "    height: 32px;\n",
       "    padding: 0;\n",
       "    width: 32px;\n",
       "  }\n",
       "\n",
       "  .colab-df-quickchart:hover {\n",
       "    background-color: var(--hover-bg-color);\n",
       "    box-shadow: 0 1px 2px rgba(60, 64, 67, 0.3), 0 1px 3px 1px rgba(60, 64, 67, 0.15);\n",
       "    fill: var(--button-hover-fill-color);\n",
       "  }\n",
       "\n",
       "  .colab-df-quickchart-complete:disabled,\n",
       "  .colab-df-quickchart-complete:disabled:hover {\n",
       "    background-color: var(--disabled-bg-color);\n",
       "    fill: var(--disabled-fill-color);\n",
       "    box-shadow: none;\n",
       "  }\n",
       "\n",
       "  .colab-df-spinner {\n",
       "    border: 2px solid var(--fill-color);\n",
       "    border-color: transparent;\n",
       "    border-bottom-color: var(--fill-color);\n",
       "    animation:\n",
       "      spin 1s steps(1) infinite;\n",
       "  }\n",
       "\n",
       "  @keyframes spin {\n",
       "    0% {\n",
       "      border-color: transparent;\n",
       "      border-bottom-color: var(--fill-color);\n",
       "      border-left-color: var(--fill-color);\n",
       "    }\n",
       "    20% {\n",
       "      border-color: transparent;\n",
       "      border-left-color: var(--fill-color);\n",
       "      border-top-color: var(--fill-color);\n",
       "    }\n",
       "    30% {\n",
       "      border-color: transparent;\n",
       "      border-left-color: var(--fill-color);\n",
       "      border-top-color: var(--fill-color);\n",
       "      border-right-color: var(--fill-color);\n",
       "    }\n",
       "    40% {\n",
       "      border-color: transparent;\n",
       "      border-right-color: var(--fill-color);\n",
       "      border-top-color: var(--fill-color);\n",
       "    }\n",
       "    60% {\n",
       "      border-color: transparent;\n",
       "      border-right-color: var(--fill-color);\n",
       "    }\n",
       "    80% {\n",
       "      border-color: transparent;\n",
       "      border-right-color: var(--fill-color);\n",
       "      border-bottom-color: var(--fill-color);\n",
       "    }\n",
       "    90% {\n",
       "      border-color: transparent;\n",
       "      border-bottom-color: var(--fill-color);\n",
       "    }\n",
       "  }\n",
       "</style>\n",
       "\n",
       "  <script>\n",
       "    async function quickchart(key) {\n",
       "      const quickchartButtonEl =\n",
       "        document.querySelector('#' + key + ' button');\n",
       "      quickchartButtonEl.disabled = true;  // To prevent multiple clicks.\n",
       "      quickchartButtonEl.classList.add('colab-df-spinner');\n",
       "      try {\n",
       "        const charts = await google.colab.kernel.invokeFunction(\n",
       "            'suggestCharts', [key], {});\n",
       "      } catch (error) {\n",
       "        console.error('Error during call to suggestCharts:', error);\n",
       "      }\n",
       "      quickchartButtonEl.classList.remove('colab-df-spinner');\n",
       "      quickchartButtonEl.classList.add('colab-df-quickchart-complete');\n",
       "    }\n",
       "    (() => {\n",
       "      let quickchartButtonEl =\n",
       "        document.querySelector('#df-0dccfcc4-5143-46b3-8817-a25cd38a81d5 button');\n",
       "      quickchartButtonEl.style.display =\n",
       "        google.colab.kernel.accessAllowed ? 'block' : 'none';\n",
       "    })();\n",
       "  </script>\n",
       "</div>\n",
       "\n",
       "  <div id=\"id_a3c052b0-965b-47ed-bafe-daaef2af0f75\">\n",
       "    <style>\n",
       "      .colab-df-generate {\n",
       "        background-color: #E8F0FE;\n",
       "        border: none;\n",
       "        border-radius: 50%;\n",
       "        cursor: pointer;\n",
       "        display: none;\n",
       "        fill: #1967D2;\n",
       "        height: 32px;\n",
       "        padding: 0 0 0 0;\n",
       "        width: 32px;\n",
       "      }\n",
       "\n",
       "      .colab-df-generate:hover {\n",
       "        background-color: #E2EBFA;\n",
       "        box-shadow: 0px 1px 2px rgba(60, 64, 67, 0.3), 0px 1px 3px 1px rgba(60, 64, 67, 0.15);\n",
       "        fill: #174EA6;\n",
       "      }\n",
       "\n",
       "      [theme=dark] .colab-df-generate {\n",
       "        background-color: #3B4455;\n",
       "        fill: #D2E3FC;\n",
       "      }\n",
       "\n",
       "      [theme=dark] .colab-df-generate:hover {\n",
       "        background-color: #434B5C;\n",
       "        box-shadow: 0px 1px 3px 1px rgba(0, 0, 0, 0.15);\n",
       "        filter: drop-shadow(0px 1px 2px rgba(0, 0, 0, 0.3));\n",
       "        fill: #FFFFFF;\n",
       "      }\n",
       "    </style>\n",
       "    <button class=\"colab-df-generate\" onclick=\"generateWithVariable('df')\"\n",
       "            title=\"Generate code using this dataframe.\"\n",
       "            style=\"display:none;\">\n",
       "\n",
       "  <svg xmlns=\"http://www.w3.org/2000/svg\" height=\"24px\"viewBox=\"0 0 24 24\"\n",
       "       width=\"24px\">\n",
       "    <path d=\"M7,19H8.4L18.45,9,17,7.55,7,17.6ZM5,21V16.75L18.45,3.32a2,2,0,0,1,2.83,0l1.4,1.43a1.91,1.91,0,0,1,.58,1.4,1.91,1.91,0,0,1-.58,1.4L9.25,21ZM18.45,9,17,7.55Zm-12,3A5.31,5.31,0,0,0,4.9,8.1,5.31,5.31,0,0,0,1,6.5,5.31,5.31,0,0,0,4.9,4.9,5.31,5.31,0,0,0,6.5,1,5.31,5.31,0,0,0,8.1,4.9,5.31,5.31,0,0,0,12,6.5,5.46,5.46,0,0,0,6.5,12Z\"/>\n",
       "  </svg>\n",
       "    </button>\n",
       "    <script>\n",
       "      (() => {\n",
       "      const buttonEl =\n",
       "        document.querySelector('#id_a3c052b0-965b-47ed-bafe-daaef2af0f75 button.colab-df-generate');\n",
       "      buttonEl.style.display =\n",
       "        google.colab.kernel.accessAllowed ? 'block' : 'none';\n",
       "\n",
       "      buttonEl.onclick = () => {\n",
       "        google.colab.notebook.generateWithVariable('df');\n",
       "      }\n",
       "      })();\n",
       "    </script>\n",
       "  </div>\n",
       "\n",
       "    </div>\n",
       "  </div>\n"
      ],
      "text/plain": [
       "      Unnamed: 0                                    id  \\\n",
       "0              0  3113b477-4ea3-4c3f-82d7-6ae6b8c12a3b   \n",
       "1              1  de5cf256-3879-413d-9e33-2c3be7e2e0c1   \n",
       "2              2  975a369c-acc2-487c-84dd-64a4764203cf   \n",
       "3              3  45aa9b39-c58a-4c91-941a-fe6373d009f5   \n",
       "4              4  99f6d7e6-b1c0-4849-9430-c60137737ead   \n",
       "...          ...                                   ...   \n",
       "2695        2695  bf1a247d-3b42-44c1-928b-2c9c94ffccbb   \n",
       "2696        2696  c4366e03-d2bb-4cc4-9e89-e4abec48e6bf   \n",
       "2697        2697  aa8721e2-baec-4077-b4fc-b426c518026e   \n",
       "2698        2698  9ea40a63-dedd-40ec-a7e4-5a951471be61   \n",
       "2699        2699  66141c01-57f3-4124-98a7-271d57d28032   \n",
       "\n",
       "                                                   text                  label  \n",
       "0     Noi cho biet k rãnh viet voi loai ng nhu chị c...         ['harassment']  \n",
       "1     -Giải ngân cực nhanh\\n-mức vay lên đến 15tr\\n👉...  ['dangerous_content']  \n",
       "2     Thủ tục đơn giản đăng ký khoản vay giải ngân l...  ['dangerous_content']  \n",
       "3     săn mãi con đen v5 cả tối k đc an ủi đc con be...             ['normal']  \n",
       "4     zalo 0375841653 ae nào mua kết bạn zalo đặt hà...  ['dangerous_content']  \n",
       "...                                                 ...                    ...  \n",
       "2695  chuong trinh nay co ap dung cho mua dam ngu ko ad             ['normal']  \n",
       "2696  Nguyễn Hoa kkk thoii thì chấp nhận làm nữ phản...             ['normal']  \n",
       "2697  Đổng khiết.một cô gái tài hoa,thuần khiê...             ['normal']  \n",
       "2698  Chào anh/chị! Cảm ơn anh/chị đã quan tâm tới d...             ['normal']  \n",
       "2699  Trọng's Oppa's bố trẻ m còn dzai hơn th bố ông...        ['hate_speech']  \n",
       "\n",
       "[2700 rows x 4 columns]"
      ]
     },
     "execution_count": 4,
     "metadata": {},
     "output_type": "execute_result"
    }
   ],
   "source": [
    "df = pd.read_csv(path)\n",
    "df"
   ]
  },
  {
   "cell_type": "code",
   "execution_count": null,
   "metadata": {
    "colab": {
     "base_uri": "https://localhost:8080/"
    },
    "id": "SMjEjYbUyOK4",
    "outputId": "8db472c2-93db-43b5-a342-873c7fccadae"
   },
   "outputs": [
    {
     "data": {
      "text/plain": [
       "array([\"['harassment']\", \"['dangerous_content']\", \"['normal']\",\n",
       "       \"['hate_speech']\", \"['sexaully_explixit']\",\n",
       "       \"['harassment', 'hate_speech']\",\n",
       "       \"['sexaully_explixit', 'hate_speech']\",\n",
       "       \"['hate_speech', 'harassment']\",\n",
       "       \"['hate_speech', 'sexaully_explixit']\",\n",
       "       \"['sexaully_explixit', 'dangerous_content']\",\n",
       "       \"['harassment', 'sexaully_explixit']\",\n",
       "       \"['hate_speech', 'dangerous_content']\"], dtype=object)"
      ]
     },
     "execution_count": 5,
     "metadata": {},
     "output_type": "execute_result"
    }
   ],
   "source": [
    "df['label'].unique()"
   ]
  },
  {
   "cell_type": "markdown",
   "metadata": {
    "id": "rl93kvG3cNgE"
   },
   "source": [
    "# Pre-processing data"
   ]
  },
  {
   "cell_type": "code",
   "execution_count": null,
   "metadata": {
    "id": "f2QBojW5w6p7"
   },
   "outputs": [],
   "source": [
    "df['label'] = df['label'].apply(lambda x: x.strip(\"[]\").split(\",\")[0])"
   ]
  },
  {
   "cell_type": "code",
   "execution_count": null,
   "metadata": {
    "id": "aMkp4FRtxV61"
   },
   "outputs": [],
   "source": [
    "import re\n",
    "def clean_text(text):\n",
    "    text = re.sub('<.*?>', '', text).strip()\n",
    "    text = re.sub('(\\s)+', r'\\1', text)\n",
    "    return text"
   ]
  },
  {
   "cell_type": "markdown",
   "metadata": {
    "id": "fYBEkhEEcUly"
   },
   "source": [
    "## Tokenize text"
   ]
  },
  {
   "cell_type": "code",
   "execution_count": null,
   "metadata": {
    "colab": {
     "base_uri": "https://localhost:8080/"
    },
    "id": "Nvm5cykzza-7",
    "outputId": "d92bf880-1604-4ce8-c106-b85357cace85"
   },
   "outputs": [
    {
     "name": "stdout",
     "output_type": "stream",
     "text": [
      "Collecting underthesea\n",
      "  Downloading underthesea-6.8.0-py3-none-any.whl (20.9 MB)\n",
      "\u001b[2K     \u001b[90m━━━━━━━━━━━━━━━━━━━━━━━━━━━━━━━━━━━━━━━━\u001b[0m \u001b[32m20.9/20.9 MB\u001b[0m \u001b[31m18.5 MB/s\u001b[0m eta \u001b[36m0:00:00\u001b[0m\n",
      "\u001b[?25hRequirement already satisfied: Click>=6.0 in /usr/local/lib/python3.10/dist-packages (from underthesea) (8.1.7)\n",
      "Collecting python-crfsuite>=0.9.6 (from underthesea)\n",
      "  Downloading python_crfsuite-0.9.10-cp310-cp310-manylinux_2_17_x86_64.manylinux2014_x86_64.whl (1.1 MB)\n",
      "\u001b[2K     \u001b[90m━━━━━━━━━━━━━━━━━━━━━━━━━━━━━━━━━━━━━━━━\u001b[0m \u001b[32m1.1/1.1 MB\u001b[0m \u001b[31m18.5 MB/s\u001b[0m eta \u001b[36m0:00:00\u001b[0m\n",
      "\u001b[?25hRequirement already satisfied: nltk in /usr/local/lib/python3.10/dist-packages (from underthesea) (3.8.1)\n",
      "Requirement already satisfied: tqdm in /usr/local/lib/python3.10/dist-packages (from underthesea) (4.66.2)\n",
      "Requirement already satisfied: requests in /usr/local/lib/python3.10/dist-packages (from underthesea) (2.31.0)\n",
      "Requirement already satisfied: joblib in /usr/local/lib/python3.10/dist-packages (from underthesea) (1.3.2)\n",
      "Requirement already satisfied: scikit-learn in /usr/local/lib/python3.10/dist-packages (from underthesea) (1.2.2)\n",
      "Requirement already satisfied: PyYAML in /usr/local/lib/python3.10/dist-packages (from underthesea) (6.0.1)\n",
      "Collecting underthesea-core==1.0.4 (from underthesea)\n",
      "  Downloading underthesea_core-1.0.4-cp310-cp310-manylinux2010_x86_64.whl (657 kB)\n",
      "\u001b[2K     \u001b[90m━━━━━━━━━━━━━━━━━━━━━━━━━━━━━━━━━━━━━━━━\u001b[0m \u001b[32m657.8/657.8 kB\u001b[0m \u001b[31m27.6 MB/s\u001b[0m eta \u001b[36m0:00:00\u001b[0m\n",
      "\u001b[?25hRequirement already satisfied: regex>=2021.8.3 in /usr/local/lib/python3.10/dist-packages (from nltk->underthesea) (2023.12.25)\n",
      "Requirement already satisfied: charset-normalizer<4,>=2 in /usr/local/lib/python3.10/dist-packages (from requests->underthesea) (3.3.2)\n",
      "Requirement already satisfied: idna<4,>=2.5 in /usr/local/lib/python3.10/dist-packages (from requests->underthesea) (3.6)\n",
      "Requirement already satisfied: urllib3<3,>=1.21.1 in /usr/local/lib/python3.10/dist-packages (from requests->underthesea) (2.0.7)\n",
      "Requirement already satisfied: certifi>=2017.4.17 in /usr/local/lib/python3.10/dist-packages (from requests->underthesea) (2024.2.2)\n",
      "Requirement already satisfied: numpy>=1.17.3 in /usr/local/lib/python3.10/dist-packages (from scikit-learn->underthesea) (1.25.2)\n",
      "Requirement already satisfied: scipy>=1.3.2 in /usr/local/lib/python3.10/dist-packages (from scikit-learn->underthesea) (1.11.4)\n",
      "Requirement already satisfied: threadpoolctl>=2.0.0 in /usr/local/lib/python3.10/dist-packages (from scikit-learn->underthesea) (3.4.0)\n",
      "Installing collected packages: underthesea-core, python-crfsuite, underthesea\n",
      "Successfully installed python-crfsuite-0.9.10 underthesea-6.8.0 underthesea-core-1.0.4\n"
     ]
    }
   ],
   "source": [
    "!pip install underthesea\n",
    "from underthesea import text_normalize, word_tokenize\n",
    "X = [word_tokenize(text_normalize(clean_text(sentence)).lower()) for sentence in df['text']]\n",
    "y = df['label']"
   ]
  },
  {
   "cell_type": "markdown",
   "metadata": {
    "id": "ETc8CH_lcg2L"
   },
   "source": [
    "## Convert text to matrix with mode \"count\""
   ]
  },
  {
   "cell_type": "code",
   "execution_count": null,
   "metadata": {
    "id": "Mq4KbnuN0USR"
   },
   "outputs": [],
   "source": [
    "from keras.preprocessing.text import Tokenizer\n",
    "t = Tokenizer()\n",
    "t.fit_on_texts(X)\n",
    "\n",
    "X = t.texts_to_matrix(X, mode='count')\n",
    "X = np.array(X)"
   ]
  },
  {
   "cell_type": "markdown",
   "metadata": {
    "id": "caQArRpmdQFB"
   },
   "source": [
    "## Handle imbalanced data with OverSampler"
   ]
  },
  {
   "cell_type": "code",
   "execution_count": null,
   "metadata": {
    "colab": {
     "base_uri": "https://localhost:8080/"
    },
    "id": "-RqYKqAF7r1g",
    "outputId": "b72f26e7-3518-498e-a695-45a13237917a"
   },
   "outputs": [
    {
     "name": "stdout",
     "output_type": "stream",
     "text": [
      "(2160, 9927)\n",
      "(2160,)\n"
     ]
    }
   ],
   "source": [
    "from sklearn.model_selection import train_test_split\n",
    "\n",
    "X_train, X_test, y_train, y_test = train_test_split(X, y, random_state=42,\n",
    "                                                    test_size=0.2)\n",
    "print(X_train.shape)\n",
    "print(y_train.shape)"
   ]
  },
  {
   "cell_type": "code",
   "execution_count": null,
   "metadata": {
    "id": "Z8SsVwFYocif"
   },
   "outputs": [],
   "source": [
    "from imblearn.over_sampling import RandomOverSampler\n",
    "ros = RandomOverSampler(random_state=42)\n",
    "X_resampled, y_resampled = ros.fit_resample(X_train, y_train)"
   ]
  },
  {
   "cell_type": "markdown",
   "metadata": {
    "id": "orGepjk6dYFz"
   },
   "source": [
    "## Training model"
   ]
  },
  {
   "cell_type": "code",
   "execution_count": null,
   "metadata": {
    "id": "vYUj3iOjdcQg"
   },
   "outputs": [],
   "source": [
    "from sklearn.naive_bayes import MultinomialNB\n",
    "from sklearn.ensemble import RandomForestClassifier\n",
    "from sklearn.linear_model import LogisticRegression\n",
    "from sklearn.ensemble import GradientBoostingClassifier\n",
    "from sklearn.neighbors import KNeighborsClassifier\n",
    "\n",
    "models = {\n",
    "    \"Multinomial NB\" : MultinomialNB(),\n",
    "    \"Logistic Regression\" : LogisticRegression(penalty=\"l2\", tol=0.001, C=0.5, max_iter=100),\n",
    "    \"RandomForest\" : RandomForestClassifier(),\n",
    "    \"KNN\" : KNeighborsClassifier(n_neighbors=15)\n",
    "}"
   ]
  },
  {
   "cell_type": "code",
   "execution_count": null,
   "metadata": {
    "colab": {
     "base_uri": "https://localhost:8080/"
    },
    "id": "Dtf9lm50e6jg",
    "outputId": "e91b2df6-7f6d-4852-e84b-e9fc738691c3"
   },
   "outputs": [
    {
     "name": "stdout",
     "output_type": "stream",
     "text": [
      "Model: Multinomial NB\n",
      "                     precision    recall  f1-score   support\n",
      "\n",
      "'dangerous_content'       0.87      0.90      0.88        51\n",
      "       'harassment'       0.18      0.41      0.25        29\n",
      "      'hate_speech'       0.50      0.62      0.55        91\n",
      "           'normal'       0.93      0.75      0.83       328\n",
      "'sexaully_explixit'       0.49      0.51      0.50        41\n",
      "\n",
      "           accuracy                           0.71       540\n",
      "          macro avg       0.59      0.64      0.60       540\n",
      "       weighted avg       0.78      0.71      0.73       540\n",
      "\n"
     ]
    },
    {
     "name": "stderr",
     "output_type": "stream",
     "text": [
      "/usr/local/lib/python3.10/dist-packages/sklearn/linear_model/_logistic.py:458: ConvergenceWarning: lbfgs failed to converge (status=1):\n",
      "STOP: TOTAL NO. of ITERATIONS REACHED LIMIT.\n",
      "\n",
      "Increase the number of iterations (max_iter) or scale the data as shown in:\n",
      "    https://scikit-learn.org/stable/modules/preprocessing.html\n",
      "Please also refer to the documentation for alternative solver options:\n",
      "    https://scikit-learn.org/stable/modules/linear_model.html#logistic-regression\n",
      "  n_iter_i = _check_optimize_result(\n"
     ]
    },
    {
     "name": "stdout",
     "output_type": "stream",
     "text": [
      "Model: Logistic Regression\n",
      "                     precision    recall  f1-score   support\n",
      "\n",
      "'dangerous_content'       0.94      0.88      0.91        51\n",
      "       'harassment'       0.29      0.34      0.31        29\n",
      "      'hate_speech'       0.71      0.60      0.65        91\n",
      "           'normal'       0.88      0.92      0.90       328\n",
      "'sexaully_explixit'       0.74      0.61      0.67        41\n",
      "\n",
      "           accuracy                           0.81       540\n",
      "          macro avg       0.71      0.67      0.69       540\n",
      "       weighted avg       0.81      0.81      0.81       540\n",
      "\n",
      "Model: RandomForest\n",
      "                     precision    recall  f1-score   support\n",
      "\n",
      "'dangerous_content'       0.96      0.88      0.92        51\n",
      "       'harassment'       0.38      0.10      0.16        29\n",
      "      'hate_speech'       0.79      0.59      0.68        91\n",
      "           'normal'       0.81      0.99      0.89       328\n",
      "'sexaully_explixit'       0.88      0.34      0.49        41\n",
      "\n",
      "           accuracy                           0.82       540\n",
      "          macro avg       0.76      0.58      0.63       540\n",
      "       weighted avg       0.80      0.82      0.79       540\n",
      "\n",
      "Model: KNN\n",
      "                     precision    recall  f1-score   support\n",
      "\n",
      "'dangerous_content'       0.81      0.82      0.82        51\n",
      "       'harassment'       0.20      0.38      0.27        29\n",
      "      'hate_speech'       0.61      0.37      0.46        91\n",
      "           'normal'       0.79      0.80      0.80       328\n",
      "'sexaully_explixit'       0.43      0.49      0.45        41\n",
      "\n",
      "           accuracy                           0.69       540\n",
      "          macro avg       0.57      0.57      0.56       540\n",
      "       weighted avg       0.70      0.69      0.69       540\n",
      "\n"
     ]
    }
   ],
   "source": [
    "from sklearn.metrics import classification_report\n",
    "\n",
    "accs = {model_name : [] for model_name in models}\n",
    "for model_name, model in models.items():\n",
    "    model.fit(X_resampled, y_resampled)\n",
    "    y_pred = model.predict(X_test)\n",
    "    print(\"Model:\", model_name)\n",
    "    print(classification_report(y_test, y_pred))\n",
    "    report = classification_report(y_test, y_pred, output_dict=True)\n",
    "    accs[model_name].append(report['accuracy'])"
   ]
  },
  {
   "cell_type": "code",
   "execution_count": null,
   "metadata": {
    "colab": {
     "base_uri": "https://localhost:8080/"
    },
    "id": "LudyaiqF7weh",
    "outputId": "eab47522-285e-44d0-bebd-84ee3e180ece"
   },
   "outputs": [
    {
     "name": "stdout",
     "output_type": "stream",
     "text": [
      "Model: Multinomial NB\n",
      "                     precision    recall  f1-score   support\n",
      "\n",
      "'dangerous_content'       0.94      0.88      0.91        51\n",
      "       'harassment'       0.24      0.38      0.30        29\n",
      "      'hate_speech'       0.55      0.64      0.59        91\n",
      "           'normal'       0.90      0.84      0.87       328\n",
      "'sexaully_explixit'       0.50      0.44      0.47        41\n",
      "\n",
      "           accuracy                           0.75       540\n",
      "          macro avg       0.63      0.64      0.63       540\n",
      "       weighted avg       0.78      0.75      0.76       540\n",
      "\n"
     ]
    },
    {
     "name": "stderr",
     "output_type": "stream",
     "text": [
      "/usr/local/lib/python3.10/dist-packages/sklearn/linear_model/_logistic.py:458: ConvergenceWarning: lbfgs failed to converge (status=1):\n",
      "STOP: TOTAL NO. of ITERATIONS REACHED LIMIT.\n",
      "\n",
      "Increase the number of iterations (max_iter) or scale the data as shown in:\n",
      "    https://scikit-learn.org/stable/modules/preprocessing.html\n",
      "Please also refer to the documentation for alternative solver options:\n",
      "    https://scikit-learn.org/stable/modules/linear_model.html#logistic-regression\n",
      "  n_iter_i = _check_optimize_result(\n"
     ]
    },
    {
     "name": "stdout",
     "output_type": "stream",
     "text": [
      "Model: Logistic Regression\n",
      "                     precision    recall  f1-score   support\n",
      "\n",
      "'dangerous_content'       0.96      0.88      0.92        51\n",
      "       'harassment'       0.32      0.28      0.30        29\n",
      "      'hate_speech'       0.71      0.64      0.67        91\n",
      "           'normal'       0.88      0.96      0.92       328\n",
      "'sexaully_explixit'       0.81      0.51      0.63        41\n",
      "\n",
      "           accuracy                           0.83       540\n",
      "          macro avg       0.73      0.65      0.69       540\n",
      "       weighted avg       0.82      0.83      0.82       540\n",
      "\n",
      "Model: RandomForest\n",
      "                     precision    recall  f1-score   support\n",
      "\n",
      "'dangerous_content'       0.98      0.90      0.94        51\n",
      "       'harassment'       0.45      0.17      0.25        29\n",
      "      'hate_speech'       0.77      0.59      0.67        91\n",
      "           'normal'       0.82      0.99      0.90       328\n",
      "'sexaully_explixit'       0.88      0.37      0.52        41\n",
      "\n",
      "           accuracy                           0.82       540\n",
      "          macro avg       0.78      0.60      0.65       540\n",
      "       weighted avg       0.81      0.82      0.80       540\n",
      "\n",
      "Model: KNN\n",
      "                     precision    recall  f1-score   support\n",
      "\n",
      "'dangerous_content'       0.70      0.63      0.66        51\n",
      "       'harassment'       0.22      0.14      0.17        29\n",
      "      'hate_speech'       0.82      0.20      0.32        91\n",
      "           'normal'       0.73      0.96      0.83       328\n",
      "'sexaully_explixit'       0.67      0.34      0.45        41\n",
      "\n",
      "           accuracy                           0.71       540\n",
      "          macro avg       0.63      0.45      0.49       540\n",
      "       weighted avg       0.71      0.71      0.66       540\n",
      "\n"
     ]
    }
   ],
   "source": [
    "X = [word_tokenize(text_normalize(clean_text(sentence)).lower()) for sentence in df['text']]\n",
    "X = t.texts_to_matrix(X, mode='tfidf')\n",
    "X = np.array(X)\n",
    "\n",
    "X_train, X_test, y_train, y_test = train_test_split(X, y, random_state=42,\n",
    "                                                    test_size=0.2)\n",
    "\n",
    "X_resampled, y_resampled = ros.fit_resample(X_train, y_train)\n",
    "\n",
    "for model_name, model in models.items():\n",
    "    model.fit(X_resampled, y_resampled)\n",
    "    y_pred = model.predict(X_test)\n",
    "    print(\"Model:\", model_name)\n",
    "    print(classification_report(y_test, y_pred))\n",
    "    report = classification_report(y_test, y_pred, output_dict=True)\n",
    "    accs[model_name].append(report['accuracy'])"
   ]
  },
  {
   "cell_type": "code",
   "execution_count": null,
   "metadata": {
    "colab": {
     "base_uri": "https://localhost:8080/"
    },
    "id": "PjaSsmlF73Ye",
    "outputId": "29fc756d-f8b0-4a75-af7f-3234b8bd42a1"
   },
   "outputs": [
    {
     "name": "stdout",
     "output_type": "stream",
     "text": [
      "Model: Multinomial NB\n",
      "                     precision    recall  f1-score   support\n",
      "\n",
      "'dangerous_content'       0.86      0.79      0.83        48\n",
      "       'harassment'       0.24      0.40      0.30        40\n",
      "      'hate_speech'       0.48      0.67      0.56        93\n",
      "           'normal'       0.92      0.73      0.82       309\n",
      "'sexaully_explixit'       0.57      0.58      0.57        50\n",
      "\n",
      "           accuracy                           0.69       540\n",
      "          macro avg       0.61      0.63      0.61       540\n",
      "       weighted avg       0.75      0.69      0.71       540\n",
      "\n",
      "Model: Logistic Regression\n",
      "                     precision    recall  f1-score   support\n",
      "\n",
      "'dangerous_content'       0.93      0.81      0.87        48\n",
      "       'harassment'       0.42      0.40      0.41        40\n",
      "      'hate_speech'       0.72      0.60      0.65        93\n",
      "           'normal'       0.86      0.94      0.90       309\n",
      "'sexaully_explixit'       0.69      0.58      0.63        50\n",
      "\n",
      "           accuracy                           0.80       540\n",
      "          macro avg       0.72      0.67      0.69       540\n",
      "       weighted avg       0.79      0.80      0.79       540\n",
      "\n",
      "Model: RandomForest\n",
      "                     precision    recall  f1-score   support\n",
      "\n",
      "'dangerous_content'       0.97      0.77      0.86        48\n",
      "       'harassment'       0.50      0.12      0.20        40\n",
      "      'hate_speech'       0.77      0.53      0.62        93\n",
      "           'normal'       0.76      1.00      0.86       309\n",
      "'sexaully_explixit'       0.91      0.40      0.56        50\n",
      "\n",
      "           accuracy                           0.78       540\n",
      "          macro avg       0.78      0.56      0.62       540\n",
      "       weighted avg       0.77      0.78      0.74       540\n",
      "\n",
      "Model: KNN\n",
      "                     precision    recall  f1-score   support\n",
      "\n",
      "'dangerous_content'       0.65      0.62      0.64        48\n",
      "       'harassment'       0.23      0.45      0.31        40\n",
      "      'hate_speech'       0.58      0.31      0.41        93\n",
      "           'normal'       0.77      0.82      0.79       309\n",
      "'sexaully_explixit'       0.47      0.34      0.40        50\n",
      "\n",
      "           accuracy                           0.64       540\n",
      "          macro avg       0.54      0.51      0.51       540\n",
      "       weighted avg       0.66      0.64      0.64       540\n",
      "\n"
     ]
    }
   ],
   "source": [
    "X = [word_tokenize(text_normalize(clean_text(sentence)).lower()) for sentence in df['text']]\n",
    "X = t.texts_to_matrix(X, mode='binary')\n",
    "X = np.array(X)\n",
    "\n",
    "X_train, X_test, y_train, y_test = train_test_split(X, y, random_state=43,\n",
    "                                                    test_size=0.2)\n",
    "\n",
    "X_resampled, y_resampled = ros.fit_resample(X_train, y_train)\n",
    "\n",
    "for model_name, model in models.items():\n",
    "    model.fit(X_resampled, y_resampled)\n",
    "    y_pred = model.predict(X_test)\n",
    "    print(\"Model:\", model_name)\n",
    "    print(classification_report(y_test, y_pred))\n",
    "    report = classification_report(y_test, y_pred, output_dict=True)\n",
    "    accs[model_name].append(report['accuracy'])"
   ]
  },
  {
   "cell_type": "code",
   "execution_count": null,
   "metadata": {
    "colab": {
     "base_uri": "https://localhost:8080/",
     "height": 430
    },
    "id": "OHGbOrYenfJa",
    "outputId": "f6f4b2c6-632f-440f-be23-c7859481b4ef"
   },
   "outputs": [
    {
     "data": {
      "image/png": "[encoded data removed]",
      "text/plain": [
       "<Figure size 640x480 with 1 Axes>"
      ]
     },
     "metadata": {},
     "output_type": "display_data"
    }
   ],
   "source": [
    "import matplotlib.pyplot as plt\n",
    "\n",
    "modes = [\"count\", \"tfidf\", \"binary\"]\n",
    "\n",
    "for model, acc in accs.items():\n",
    "    plt.plot(modes, acc, label=model)\n",
    "plt.legend()\n",
    "plt.show()"
   ]
  },
  {
   "cell_type": "code",
   "execution_count": null,
   "metadata": {
    "id": "gjq2P6_Q73pF"
   },
   "outputs": [],
   "source": [
    "# question = input()\n",
    "# X_input = t.texts_to_matrix([question], mode='count')\n",
    "# print(X_input)\n",
    "# y_output = model.predict(X_input)\n",
    "# print(y_output)"
   ]
  },
  {
   "cell_type": "markdown",
   "metadata": {
    "id": "3kcTlXr8oD_U"
   },
   "source": [
    "# Using Fasttext to Embedding word"
   ]
  },
  {
   "cell_type": "code",
   "execution_count": null,
   "metadata": {
    "id": "TAfFhtTLoBP8"
   },
   "outputs": [],
   "source": [
    "from gensim.models import FastText\n",
    "from gensim.models import Word2Vec\n",
    "\n",
    "train_data = [word_tokenize(text_normalize(clean_text(sentence)).lower()) for sentence in df['text']]\n",
    "\n",
    "model = FastText(train_data,\n",
    "                 vector_size=1024,\n",
    "                 window=5,\n",
    "                 min_count=1,\n",
    "                 workers=4,\n",
    "                 epochs=25,\n",
    "                 seed=42,\n",
    "                 sg=1)"
   ]
  },
  {
   "cell_type": "code",
   "execution_count": null,
   "metadata": {
    "colab": {
     "base_uri": "https://localhost:8080/"
    },
    "id": "taXXO5I0pcfo",
    "outputId": "e2249eb8-4639-4fee-9e19-0c57391fd150"
   },
   "outputs": [
    {
     "data": {
      "text/plain": [
       "9926"
      ]
     },
     "execution_count": 50,
     "metadata": {},
     "output_type": "execute_result"
    }
   ],
   "source": [
    "ftext = model.wv\n",
    "len(ftext.index_to_key)"
   ]
  },
  {
   "cell_type": "code",
   "execution_count": null,
   "metadata": {
    "id": "d1Tv9oejpq1H"
   },
   "outputs": [],
   "source": [
    "X = [ftext[text_normalize(clean_text(sentence)).lower()] for sentence in df['text']]\n",
    "X = np.array(X)"
   ]
  },
  {
   "cell_type": "code",
   "execution_count": null,
   "metadata": {
    "colab": {
     "base_uri": "https://localhost:8080/"
    },
    "id": "HdrEjOsaqdt2",
    "outputId": "b81fb80f-7d2b-4219-d49f-da83bd004746"
   },
   "outputs": [
    {
     "name": "stdout",
     "output_type": "stream",
     "text": [
      "                     precision    recall  f1-score   support\n",
      "\n",
      "'dangerous_content'       0.95      0.87      0.91        67\n",
      "       'harassment'       0.25      0.10      0.15        39\n",
      "      'hate_speech'       0.58      0.57      0.57       113\n",
      "           'normal'       0.82      0.95      0.88       404\n",
      "'sexaully_explixit'       0.89      0.31      0.46        52\n",
      "\n",
      "           accuracy                           0.78       675\n",
      "          macro avg       0.70      0.56      0.59       675\n",
      "       weighted avg       0.76      0.78      0.76       675\n",
      "\n"
     ]
    }
   ],
   "source": [
    "from sklearn.preprocessing import StandardScaler\n",
    "scaler = StandardScaler()\n",
    "X = scaler.fit_transform(X)\n",
    "\n",
    "X_train, X_test, y_train, y_test = train_test_split(X, y, random_state=42,\n",
    "                                                    test_size=0.25)\n",
    "\n",
    "X_resampled, y_resampled = ros.fit_resample(X_train, y_train)\n",
    "\n",
    "model = RandomForestClassifier()\n",
    "model.fit(X_resampled, y_resampled)\n",
    "y_pred = model.predict(X_test)\n",
    "print(classification_report(y_test, y_pred))"
   ]
  },
  {
   "cell_type": "markdown",
   "metadata": {
    "id": "2aNjzDn-wT9K"
   },
   "source": [
    "# Using Neural Network"
   ]
  },
  {
   "cell_type": "code",
   "execution_count": null,
   "metadata": {
    "id": "BM8EBlIY1bRC"
   },
   "outputs": [],
   "source": [
    "import tensorflow as tf\n",
    "from tensorflow.keras.models import Sequential\n",
    "from tensorflow.keras.layers import Dense, Activation\n",
    "from tensorflow.keras.optimizers import Adam"
   ]
  },
  {
   "cell_type": "code",
   "execution_count": null,
   "metadata": {
    "id": "mg3-EA4N4Xcw"
   },
   "outputs": [],
   "source": [
    "from sklearn.preprocessing import LabelEncoder\n",
    "\n",
    "X = [word_tokenize(text_normalize(clean_text(sentence)).lower()) for sentence in df['text']]\n",
    "X = t.texts_to_matrix(X, mode='tfidf')\n",
    "X = np.array(X)\n",
    "\n",
    "X_train, X_test, y_train, y_test = train_test_split(X, y, random_state=42,\n",
    "                                                    test_size=0.25)\n",
    "\n",
    "X_resampled, y_resampled = ros.fit_resample(X_train, y_train)\n",
    "\n",
    "le = LabelEncoder()\n",
    "\n",
    "y_resampled = le.fit_transform(y_resampled)\n",
    "\n",
    "from tensorflow.keras.utils import to_categorical\n",
    "y_resampled = to_categorical(y_resampled)"
   ]
  },
  {
   "cell_type": "code",
   "execution_count": null,
   "metadata": {
    "id": "XEdSdR9639-p"
   },
   "outputs": [],
   "source": [
    "model = Sequential()\n",
    "model.add(Dense(32, activation='relu'))\n",
    "model.add(Dense(16, activation='relu'))\n",
    "model.add(Dense(5, activation='sigmoid'))\n",
    "model.compile(loss='categorical_crossentropy', optimizer='adam', metrics=['accuracy'])"
   ]
  },
  {
   "cell_type": "code",
   "execution_count": null,
   "metadata": {
    "colab": {
     "base_uri": "https://localhost:8080/"
    },
    "id": "CXQZ-oR-4AZx",
    "outputId": "b94dc7c0-83fc-4579-c58b-0d43539f1383"
   },
   "outputs": [
    {
     "name": "stdout",
     "output_type": "stream",
     "text": [
      "Epoch 1/15\n",
      "75/75 [==============================] - 3s 22ms/step - loss: 0.8601 - accuracy: 0.7361 - val_loss: 1.9502 - val_accuracy: 0.2107\n",
      "Epoch 2/15\n",
      "75/75 [==============================] - 1s 12ms/step - loss: 0.1861 - accuracy: 0.9601 - val_loss: 0.3844 - val_accuracy: 0.9152\n",
      "Epoch 3/15\n",
      "75/75 [==============================] - 1s 10ms/step - loss: 0.0603 - accuracy: 0.9861 - val_loss: 0.1002 - val_accuracy: 0.9849\n",
      "Epoch 4/15\n",
      "75/75 [==============================] - 1s 9ms/step - loss: 0.0351 - accuracy: 0.9908 - val_loss: 0.0821 - val_accuracy: 0.9874\n",
      "Epoch 5/15\n",
      "75/75 [==============================] - 1s 11ms/step - loss: 0.0272 - accuracy: 0.9908 - val_loss: 0.0618 - val_accuracy: 0.9882\n",
      "Epoch 6/15\n",
      "75/75 [==============================] - 1s 11ms/step - loss: 0.0269 - accuracy: 0.9901 - val_loss: 0.0781 - val_accuracy: 0.9882\n",
      "Epoch 7/15\n",
      "75/75 [==============================] - 1s 10ms/step - loss: 0.0233 - accuracy: 0.9912 - val_loss: 0.0273 - val_accuracy: 0.9882\n",
      "Epoch 8/15\n",
      "75/75 [==============================] - 1s 9ms/step - loss: 0.0226 - accuracy: 0.9914 - val_loss: 0.0591 - val_accuracy: 0.9874\n",
      "Epoch 9/15\n",
      "75/75 [==============================] - 1s 11ms/step - loss: 0.0219 - accuracy: 0.9912 - val_loss: 0.0356 - val_accuracy: 0.9874\n",
      "Epoch 10/15\n",
      "75/75 [==============================] - 1s 10ms/step - loss: 0.0225 - accuracy: 0.9906 - val_loss: 0.0541 - val_accuracy: 0.9916\n",
      "Epoch 11/15\n",
      "75/75 [==============================] - 1s 10ms/step - loss: 0.0248 - accuracy: 0.9910 - val_loss: 0.0305 - val_accuracy: 0.9899\n",
      "Epoch 12/15\n",
      "75/75 [==============================] - 1s 9ms/step - loss: 0.0224 - accuracy: 0.9916 - val_loss: 0.0405 - val_accuracy: 0.9891\n",
      "Epoch 13/15\n",
      "75/75 [==============================] - 1s 10ms/step - loss: 0.0212 - accuracy: 0.9912 - val_loss: 0.0297 - val_accuracy: 0.9874\n",
      "Epoch 14/15\n",
      "75/75 [==============================] - 1s 10ms/step - loss: 0.0220 - accuracy: 0.9899 - val_loss: 0.0142 - val_accuracy: 0.9941\n",
      "Epoch 15/15\n",
      "75/75 [==============================] - 1s 13ms/step - loss: 0.0199 - accuracy: 0.9918 - val_loss: 0.0465 - val_accuracy: 0.9882\n"
     ]
    }
   ],
   "source": [
    "hist = model.fit(X_resampled, y_resampled, epochs=15, batch_size=64, validation_split=0.2, verbose=1)"
   ]
  },
  {
   "cell_type": "code",
   "execution_count": null,
   "metadata": {
    "colab": {
     "base_uri": "https://localhost:8080/",
     "height": 449
    },
    "id": "viqSOcmJu_MA",
    "outputId": "d6c64baf-00a8-45e2-a195-4cf1454b5d54"
   },
   "outputs": [
    {
     "data": {
      "image/png": "[encoded data removed]",
      "text/plain": [
       "<Figure size 640x480 with 1 Axes>"
      ]
     },
     "metadata": {},
     "output_type": "display_data"
    }
   ],
   "source": [
    "plt.plot(hist.history['val_accuracy'], label=\"Validation\")\n",
    "plt.plot(hist.history['accuracy'], label=\"Accuracy\")\n",
    "plt.xlabel(\"Epochs\")\n",
    "plt.legend()\n",
    "plt.show()"
   ]
  },
  {
   "cell_type": "code",
   "execution_count": null,
   "metadata": {
    "colab": {
     "base_uri": "https://localhost:8080/"
    },
    "id": "SbEhtYwJ4HX9",
    "outputId": "246707ce-f42a-4a81-8263-7f8336e988c0"
   },
   "outputs": [
    {
     "name": "stdout",
     "output_type": "stream",
     "text": [
      "22/22 [==============================] - 0s 3ms/step\n",
      "              precision    recall  f1-score   support\n",
      "\n",
      "           0       0.97      0.91      0.94        67\n",
      "           1       0.42      0.33      0.37        39\n",
      "           2       0.64      0.62      0.63       113\n",
      "           3       0.86      0.94      0.89       404\n",
      "           4       0.71      0.42      0.53        52\n",
      "\n",
      "    accuracy                           0.81       675\n",
      "   macro avg       0.72      0.64      0.67       675\n",
      "weighted avg       0.80      0.81      0.80       675\n",
      "\n"
     ]
    }
   ],
   "source": [
    "y_pred = model.predict(X_test)\n",
    "y_pred = y_pred.argmax(axis=1)\n",
    "\n",
    "from sklearn.metrics import classification_report\n",
    "\n",
    "print(classification_report(le.transform(y_test), y_pred))"
   ]
  }
 ],
 "metadata": {
  "colab": {
   "provenance": []
  },
  "kernelspec": {
   "display_name": "Python 3 (ipykernel)",
   "language": "python",
   "name": "python3"
  },
  "language_info": {
   "codemirror_mode": {
    "name": "ipython",
    "version": 3
   },
   "file_extension": ".py",
   "mimetype": "text/x-python",
   "name": "python",
   "nbconvert_exporter": "python",
   "pygments_lexer": "ipython3",
   "version": "3.11.4"
  }
 },
 "nbformat": 4,
 "nbformat_minor": 1
}
