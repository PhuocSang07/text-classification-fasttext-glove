{
 "cells": [
  {
   "cell_type": "markdown",
   "metadata": {},
   "source": [
    "# BERT"
   ]
  },
  {
   "cell_type": "code",
   "execution_count": 33,
   "metadata": {},
   "outputs": [],
   "source": [
    "import pandas as pd\n",
    "from underthesea import word_tokenize, text_normalize"
   ]
  },
  {
   "cell_type": "markdown",
   "metadata": {},
   "source": [
    "# Data Preprocessing"
   ]
  },
  {
   "cell_type": "code",
   "execution_count": 34,
   "metadata": {},
   "outputs": [
    {
     "data": {
      "text/html": [
       "<div>\n",
       "<style scoped>\n",
       "    .dataframe tbody tr th:only-of-type {\n",
       "        vertical-align: middle;\n",
       "    }\n",
       "\n",
       "    .dataframe tbody tr th {\n",
       "        vertical-align: top;\n",
       "    }\n",
       "\n",
       "    .dataframe thead th {\n",
       "        text-align: right;\n",
       "    }\n",
       "</style>\n",
       "<table border=\"1\" class=\"dataframe\">\n",
       "  <thead>\n",
       "    <tr style=\"text-align: right;\">\n",
       "      <th></th>\n",
       "      <th>Unnamed: 0</th>\n",
       "      <th>id</th>\n",
       "      <th>text</th>\n",
       "      <th>label</th>\n",
       "    </tr>\n",
       "  </thead>\n",
       "  <tbody>\n",
       "    <tr>\n",
       "      <th>0</th>\n",
       "      <td>0</td>\n",
       "      <td>3113b477-4ea3-4c3f-82d7-6ae6b8c12a3b</td>\n",
       "      <td>Noi cho biet k rãnh viet voi loai ng nhu chị c...</td>\n",
       "      <td>['harassment']</td>\n",
       "    </tr>\n",
       "    <tr>\n",
       "      <th>1</th>\n",
       "      <td>1</td>\n",
       "      <td>de5cf256-3879-413d-9e33-2c3be7e2e0c1</td>\n",
       "      <td>-Giải ngân cực nhanh\\n-mức vay lên đến 15tr\\n👉...</td>\n",
       "      <td>['dangerous_content']</td>\n",
       "    </tr>\n",
       "    <tr>\n",
       "      <th>2</th>\n",
       "      <td>2</td>\n",
       "      <td>975a369c-acc2-487c-84dd-64a4764203cf</td>\n",
       "      <td>Thủ tục đơn giản đăng ký khoản vay giải ngân l...</td>\n",
       "      <td>['dangerous_content']</td>\n",
       "    </tr>\n",
       "    <tr>\n",
       "      <th>3</th>\n",
       "      <td>3</td>\n",
       "      <td>45aa9b39-c58a-4c91-941a-fe6373d009f5</td>\n",
       "      <td>săn mãi con đen v5 cả tối k đc an ủi đc con be...</td>\n",
       "      <td>['normal']</td>\n",
       "    </tr>\n",
       "    <tr>\n",
       "      <th>4</th>\n",
       "      <td>4</td>\n",
       "      <td>99f6d7e6-b1c0-4849-9430-c60137737ead</td>\n",
       "      <td>zalo 0375841653 ae nào mua kết bạn zalo đặt hà...</td>\n",
       "      <td>['dangerous_content']</td>\n",
       "    </tr>\n",
       "  </tbody>\n",
       "</table>\n",
       "</div>"
      ],
      "text/plain": [
       "   Unnamed: 0                                    id  \\\n",
       "0           0  3113b477-4ea3-4c3f-82d7-6ae6b8c12a3b   \n",
       "1           1  de5cf256-3879-413d-9e33-2c3be7e2e0c1   \n",
       "2           2  975a369c-acc2-487c-84dd-64a4764203cf   \n",
       "3           3  45aa9b39-c58a-4c91-941a-fe6373d009f5   \n",
       "4           4  99f6d7e6-b1c0-4849-9430-c60137737ead   \n",
       "\n",
       "                                                text                  label  \n",
       "0  Noi cho biet k rãnh viet voi loai ng nhu chị c...         ['harassment']  \n",
       "1  -Giải ngân cực nhanh\\n-mức vay lên đến 15tr\\n👉...  ['dangerous_content']  \n",
       "2  Thủ tục đơn giản đăng ký khoản vay giải ngân l...  ['dangerous_content']  \n",
       "3  săn mãi con đen v5 cả tối k đc an ủi đc con be...             ['normal']  \n",
       "4  zalo 0375841653 ae nào mua kết bạn zalo đặt hà...  ['dangerous_content']  "
      ]
     },
     "execution_count": 34,
     "metadata": {},
     "output_type": "execute_result"
    }
   ],
   "source": [
    "df = pd.read_csv('facebook_comment_2k7.csv')\n",
    "df.head()"
   ]
  },
  {
   "cell_type": "code",
   "execution_count": 35,
   "metadata": {},
   "outputs": [
    {
     "data": {
      "text/html": [
       "<div>\n",
       "<style scoped>\n",
       "    .dataframe tbody tr th:only-of-type {\n",
       "        vertical-align: middle;\n",
       "    }\n",
       "\n",
       "    .dataframe tbody tr th {\n",
       "        vertical-align: top;\n",
       "    }\n",
       "\n",
       "    .dataframe thead th {\n",
       "        text-align: right;\n",
       "    }\n",
       "</style>\n",
       "<table border=\"1\" class=\"dataframe\">\n",
       "  <thead>\n",
       "    <tr style=\"text-align: right;\">\n",
       "      <th></th>\n",
       "      <th>text</th>\n",
       "      <th>label</th>\n",
       "    </tr>\n",
       "  </thead>\n",
       "  <tbody>\n",
       "    <tr>\n",
       "      <th>0</th>\n",
       "      <td>Noi cho biet k rãnh viet voi loai ng nhu chị c...</td>\n",
       "      <td>['harassment']</td>\n",
       "    </tr>\n",
       "    <tr>\n",
       "      <th>1</th>\n",
       "      <td>-Giải ngân cực nhanh\\n-mức vay lên đến 15tr\\n👉...</td>\n",
       "      <td>['dangerous_content']</td>\n",
       "    </tr>\n",
       "    <tr>\n",
       "      <th>2</th>\n",
       "      <td>Thủ tục đơn giản đăng ký khoản vay giải ngân l...</td>\n",
       "      <td>['dangerous_content']</td>\n",
       "    </tr>\n",
       "    <tr>\n",
       "      <th>3</th>\n",
       "      <td>săn mãi con đen v5 cả tối k đc an ủi đc con be...</td>\n",
       "      <td>['normal']</td>\n",
       "    </tr>\n",
       "    <tr>\n",
       "      <th>4</th>\n",
       "      <td>zalo 0375841653 ae nào mua kết bạn zalo đặt hà...</td>\n",
       "      <td>['dangerous_content']</td>\n",
       "    </tr>\n",
       "  </tbody>\n",
       "</table>\n",
       "</div>"
      ],
      "text/plain": [
       "                                                text                  label\n",
       "0  Noi cho biet k rãnh viet voi loai ng nhu chị c...         ['harassment']\n",
       "1  -Giải ngân cực nhanh\\n-mức vay lên đến 15tr\\n👉...  ['dangerous_content']\n",
       "2  Thủ tục đơn giản đăng ký khoản vay giải ngân l...  ['dangerous_content']\n",
       "3  săn mãi con đen v5 cả tối k đc an ủi đc con be...             ['normal']\n",
       "4  zalo 0375841653 ae nào mua kết bạn zalo đặt hà...  ['dangerous_content']"
      ]
     },
     "execution_count": 35,
     "metadata": {},
     "output_type": "execute_result"
    }
   ],
   "source": [
    "df = df.drop(['Unnamed: 0', 'id'], axis=1)\n",
    "df.head()"
   ]
  },
  {
   "cell_type": "code",
   "execution_count": 36,
   "metadata": {},
   "outputs": [
    {
     "name": "stdout",
     "output_type": "stream",
     "text": [
      "(2700, 2)\n"
     ]
    }
   ],
   "source": [
    "print(df.shape)"
   ]
  },
  {
   "cell_type": "markdown",
   "metadata": {},
   "source": [
    "Đối với những sample có 2 label trở lên thì tách thành các sample riêng chỉ với 1 label"
   ]
  },
  {
   "cell_type": "code",
   "execution_count": 37,
   "metadata": {},
   "outputs": [
    {
     "data": {
      "text/html": [
       "<div>\n",
       "<style scoped>\n",
       "    .dataframe tbody tr th:only-of-type {\n",
       "        vertical-align: middle;\n",
       "    }\n",
       "\n",
       "    .dataframe tbody tr th {\n",
       "        vertical-align: top;\n",
       "    }\n",
       "\n",
       "    .dataframe thead th {\n",
       "        text-align: right;\n",
       "    }\n",
       "</style>\n",
       "<table border=\"1\" class=\"dataframe\">\n",
       "  <thead>\n",
       "    <tr style=\"text-align: right;\">\n",
       "      <th></th>\n",
       "      <th>text</th>\n",
       "      <th>label</th>\n",
       "    </tr>\n",
       "  </thead>\n",
       "  <tbody>\n",
       "    <tr>\n",
       "      <th>0</th>\n",
       "      <td>Noi cho biet k rãnh viet voi loai ng nhu chị c...</td>\n",
       "      <td>harassment</td>\n",
       "    </tr>\n",
       "    <tr>\n",
       "      <th>1</th>\n",
       "      <td>-Giải ngân cực nhanh\\n-mức vay lên đến 15tr\\n👉...</td>\n",
       "      <td>dangerous_content</td>\n",
       "    </tr>\n",
       "    <tr>\n",
       "      <th>2</th>\n",
       "      <td>Thủ tục đơn giản đăng ký khoản vay giải ngân l...</td>\n",
       "      <td>dangerous_content</td>\n",
       "    </tr>\n",
       "    <tr>\n",
       "      <th>3</th>\n",
       "      <td>săn mãi con đen v5 cả tối k đc an ủi đc con be...</td>\n",
       "      <td>normal</td>\n",
       "    </tr>\n",
       "    <tr>\n",
       "      <th>4</th>\n",
       "      <td>zalo 0375841653 ae nào mua kết bạn zalo đặt hà...</td>\n",
       "      <td>dangerous_content</td>\n",
       "    </tr>\n",
       "  </tbody>\n",
       "</table>\n",
       "</div>"
      ],
      "text/plain": [
       "                                                text              label\n",
       "0  Noi cho biet k rãnh viet voi loai ng nhu chị c...         harassment\n",
       "1  -Giải ngân cực nhanh\\n-mức vay lên đến 15tr\\n👉...  dangerous_content\n",
       "2  Thủ tục đơn giản đăng ký khoản vay giải ngân l...  dangerous_content\n",
       "3  săn mãi con đen v5 cả tối k đc an ủi đc con be...             normal\n",
       "4  zalo 0375841653 ae nào mua kết bạn zalo đặt hà...  dangerous_content"
      ]
     },
     "execution_count": 37,
     "metadata": {},
     "output_type": "execute_result"
    }
   ],
   "source": [
    "import ast\n",
    "\n",
    "df['label'] = df['label'].apply(ast.literal_eval) # convert string to list\n",
    "df  = df.explode('label')\n",
    "df.head()"
   ]
  },
  {
   "cell_type": "code",
   "execution_count": 38,
   "metadata": {},
   "outputs": [
    {
     "name": "stdout",
     "output_type": "stream",
     "text": [
      "(2790, 2)\n"
     ]
    }
   ],
   "source": [
    "print(df.shape)"
   ]
  },
  {
   "cell_type": "code",
   "execution_count": 74,
   "metadata": {},
   "outputs": [],
   "source": [
    "from sklearn.model_selection import train_test_split\n",
    "\n",
    "X_train, X_test, y_train, y_test = train_test_split(df['text'], df['label'], test_size=0.2, random_state=42)"
   ]
  },
  {
   "cell_type": "code",
   "execution_count": 40,
   "metadata": {},
   "outputs": [
    {
     "data": {
      "image/png": "[encoded data removed]",
      "text/plain": [
       "<Figure size 640x480 with 1 Axes>"
      ]
     },
     "metadata": {},
     "output_type": "display_data"
    }
   ],
   "source": [
    "from collections import Counter\n",
    "from matplotlib import pyplot as plt\n",
    "\n",
    "label_count = Counter(df['label'])\n",
    "plt.bar(label_count.keys(), label_count.values())\n",
    "plt.xlabel('Label')\n",
    "plt.ylabel('Count')\n",
    "plt.xticks(rotation=30)\n",
    "plt.show()"
   ]
  },
  {
   "cell_type": "code",
   "execution_count": 41,
   "metadata": {},
   "outputs": [
    {
     "name": "stdout",
     "output_type": "stream",
     "text": [
      "Counter({'normal': 1595, 'hate_speech': 456, 'dangerous_content': 281, 'harassment': 236, 'sexaully_explixit': 222})\n"
     ]
    }
   ],
   "source": [
    "print(label_count)"
   ]
  },
  {
   "cell_type": "code",
   "execution_count": 42,
   "metadata": {},
   "outputs": [
    {
     "data": {
      "text/html": [
       "<div>\n",
       "<style scoped>\n",
       "    .dataframe tbody tr th:only-of-type {\n",
       "        vertical-align: middle;\n",
       "    }\n",
       "\n",
       "    .dataframe tbody tr th {\n",
       "        vertical-align: top;\n",
       "    }\n",
       "\n",
       "    .dataframe thead th {\n",
       "        text-align: right;\n",
       "    }\n",
       "</style>\n",
       "<table border=\"1\" class=\"dataframe\">\n",
       "  <thead>\n",
       "    <tr style=\"text-align: right;\">\n",
       "      <th></th>\n",
       "      <th>text</th>\n",
       "      <th>label</th>\n",
       "    </tr>\n",
       "  </thead>\n",
       "  <tbody>\n",
       "    <tr>\n",
       "      <th>0</th>\n",
       "      <td>Noi cho biet k rãnh viet voi loai ng nhu chị c...</td>\n",
       "      <td>harassment</td>\n",
       "    </tr>\n",
       "    <tr>\n",
       "      <th>1</th>\n",
       "      <td>- Giải ngân cực nhanh - mức vay lên đến 15 tr ...</td>\n",
       "      <td>dangerous_content</td>\n",
       "    </tr>\n",
       "    <tr>\n",
       "      <th>2</th>\n",
       "      <td>Thủ tục đơn giản đăng ký khoản vay giải ngân l...</td>\n",
       "      <td>dangerous_content</td>\n",
       "    </tr>\n",
       "    <tr>\n",
       "      <th>3</th>\n",
       "      <td>săn mãi con đen v5 cả tối k đc an ủi đc con be...</td>\n",
       "      <td>normal</td>\n",
       "    </tr>\n",
       "    <tr>\n",
       "      <th>4</th>\n",
       "      <td>zalo 0375841653 ae nào mua kết bạn zalo đặt hà...</td>\n",
       "      <td>dangerous_content</td>\n",
       "    </tr>\n",
       "  </tbody>\n",
       "</table>\n",
       "</div>"
      ],
      "text/plain": [
       "                                                text              label\n",
       "0  Noi cho biet k rãnh viet voi loai ng nhu chị c...         harassment\n",
       "1  - Giải ngân cực nhanh - mức vay lên đến 15 tr ...  dangerous_content\n",
       "2  Thủ tục đơn giản đăng ký khoản vay giải ngân l...  dangerous_content\n",
       "3  săn mãi con đen v5 cả tối k đc an ủi đc con be...             normal\n",
       "4  zalo 0375841653 ae nào mua kết bạn zalo đặt hà...  dangerous_content"
      ]
     },
     "execution_count": 42,
     "metadata": {},
     "output_type": "execute_result"
    }
   ],
   "source": [
    "def preprocess_text(text):\n",
    "    text = text_normalize(text)\n",
    "    return text\n",
    "    \n",
    "df['text'] = df['text'].apply(preprocess_text)\n",
    "\n",
    "df.head()"
   ]
  },
  {
   "cell_type": "markdown",
   "metadata": {},
   "source": [
    "https://huggingface.co/keepitreal/vietnamese-sbert"
   ]
  },
  {
   "cell_type": "code",
   "execution_count": 43,
   "metadata": {},
   "outputs": [],
   "source": [
    "from sentence_transformers import SentenceTransformer\n",
    "\n",
    "# model = SentenceTransformer('keepitreal/vietnamese-sbert')"
   ]
  },
  {
   "cell_type": "markdown",
   "metadata": {},
   "source": [
    "https://huggingface.co/bkai-foundation-models/vietnamese-bi-encoder"
   ]
  },
  {
   "cell_type": "code",
   "execution_count": 79,
   "metadata": {},
   "outputs": [],
   "source": [
    "from sentence_transformers import SentenceTransformer\n",
    "\n",
    "model = SentenceTransformer('bkai-foundation-models/vietnamese-bi-encoder')"
   ]
  },
  {
   "cell_type": "markdown",
   "metadata": {},
   "source": [
    "maps sentences & paragraphs to a 768 dimensional dense vector space"
   ]
  },
  {
   "cell_type": "code",
   "execution_count": 80,
   "metadata": {},
   "outputs": [],
   "source": [
    "X_train = model.encode(X_train.values)\n",
    "X_test = model.encode(X_test.values)"
   ]
  },
  {
   "cell_type": "markdown",
   "metadata": {},
   "source": [
    "Tìm model tốt nhất với các param"
   ]
  },
  {
   "cell_type": "code",
   "execution_count": 46,
   "metadata": {},
   "outputs": [],
   "source": [
    "from sklearn.linear_model import LogisticRegression\n",
    "from sklearn.svm import SVC\n",
    "from sklearn.tree import DecisionTreeClassifier\n",
    "from sklearn.ensemble import RandomForestClassifier\n",
    "from sklearn.metrics import classification_report\n",
    "from sklearn.model_selection import GridSearchCV\n",
    "\n",
    "# Define the parameter grids for each model\n",
    "param_grid_lr = {\n",
    "    'C': [0.001, 0.01, 0.1, 1, 10, 100],\n",
    "    'penalty': ['l1', 'l2'],\n",
    "    'solver': ['liblinear', 'saga']\n",
    "}\n",
    "\n",
    "param_grid_dt = {\n",
    "    'max_depth': [None, 10, 20, 30],\n",
    "    'min_samples_split': [2, 5, 10],\n",
    "    'min_samples_leaf': [1, 2, 4]\n",
    "}\n",
    "\n",
    "param_grid_rf = {\n",
    "    'n_estimators': [50, 100, 200],\n",
    "    'max_depth': [None, 10, 20],\n",
    "    'min_samples_split': [2, 5, 10],\n",
    "    'min_samples_leaf': [1, 2, 4]\n",
    "}\n",
    "\n",
    "param_grid_svc = {\n",
    "    'C': [0.1, 1, 10],\n",
    "    'kernel': ['linear', 'rbf'],\n",
    "    'gamma': ['scale', 'auto']\n",
    "}\n",
    "\n",
    "# Define the dictionary of models with their corresponding parameter grids\n",
    "models = {\n",
    "    \"Logistic Regression\": (LogisticRegression(), param_grid_lr),\n",
    "    \"Decision Tree Classifier\": (DecisionTreeClassifier(), param_grid_dt),\n",
    "    \"Random Forest Classifier\": (RandomForestClassifier(), param_grid_rf),\n",
    "    \"SVC\": (SVC(), param_grid_svc)\n",
    "}\n",
    "\n",
    "# Perform GridSearchCV for each model\n",
    "best_models = {}\n",
    "for model_name, (model, param_grid) in models.items():\n",
    "    grid_search = GridSearchCV(model, param_grid, cv=5, n_jobs=-1)\n",
    "    grid_search.fit(X_train, y_train)\n",
    "    best_models[model_name] = grid_search.best_estimator_"
   ]
  },
  {
   "cell_type": "code",
   "execution_count": 47,
   "metadata": {},
   "outputs": [
    {
     "name": "stdout",
     "output_type": "stream",
     "text": [
      "{'Logistic Regression': LogisticRegression(C=0.1, solver='liblinear'), 'Decision Tree Classifier': DecisionTreeClassifier(max_depth=10, min_samples_leaf=4), 'Random Forest Classifier': RandomForestClassifier(n_estimators=50), 'SVC': SVC(C=10, gamma='auto')}\n"
     ]
    }
   ],
   "source": [
    "print(best_models)"
   ]
  },
  {
   "cell_type": "code",
   "execution_count": 48,
   "metadata": {},
   "outputs": [
    {
     "name": "stdout",
     "output_type": "stream",
     "text": [
      "Model: Logistic Regression\n",
      "                   precision    recall  f1-score   support\n",
      "\n",
      "dangerous_content       0.98      0.80      0.88        59\n",
      "       harassment       0.82      0.27      0.41        52\n",
      "      hate_speech       0.59      0.65      0.62        83\n",
      "           normal       0.81      0.95      0.88       325\n",
      "sexaully_explixit       0.73      0.41      0.52        39\n",
      "\n",
      "         accuracy                           0.79       558\n",
      "        macro avg       0.79      0.61      0.66       558\n",
      "     weighted avg       0.79      0.79      0.77       558\n",
      "\n",
      "Model: Decision Tree Classifier\n",
      "                   precision    recall  f1-score   support\n",
      "\n",
      "dangerous_content       0.61      0.66      0.63        59\n",
      "       harassment       0.15      0.12      0.13        52\n",
      "      hate_speech       0.34      0.36      0.35        83\n",
      "           normal       0.75      0.77      0.76       325\n",
      "sexaully_explixit       0.22      0.18      0.20        39\n",
      "\n",
      "         accuracy                           0.59       558\n",
      "        macro avg       0.41      0.42      0.41       558\n",
      "     weighted avg       0.58      0.59      0.59       558\n",
      "\n",
      "Model: Random Forest Classifier\n",
      "                   precision    recall  f1-score   support\n",
      "\n",
      "dangerous_content       1.00      0.68      0.81        59\n",
      "       harassment       0.29      0.08      0.12        52\n",
      "      hate_speech       0.61      0.36      0.45        83\n",
      "           normal       0.73      0.99      0.84       325\n",
      "sexaully_explixit       0.75      0.23      0.35        39\n",
      "\n",
      "         accuracy                           0.73       558\n",
      "        macro avg       0.68      0.47      0.52       558\n",
      "     weighted avg       0.70      0.73      0.68       558\n",
      "\n",
      "Model: SVC\n",
      "                   precision    recall  f1-score   support\n",
      "\n",
      "dangerous_content       1.00      0.76      0.87        59\n",
      "       harassment       1.00      0.15      0.27        52\n",
      "      hate_speech       0.59      0.72      0.65        83\n",
      "           normal       0.82      0.97      0.89       325\n",
      "sexaully_explixit       0.94      0.38      0.55        39\n",
      "\n",
      "         accuracy                           0.80       558\n",
      "        macro avg       0.87      0.60      0.64       558\n",
      "     weighted avg       0.83      0.80      0.77       558\n",
      "\n"
     ]
    }
   ],
   "source": [
    "for name, model in best_models.items():\n",
    "    # model.fit(X_train, y_train)\n",
    "    y_pred = model.predict(X_test)\n",
    "    print(f\"Model: {name}\")\n",
    "    print(classification_report(y_test, y_pred))"
   ]
  },
  {
   "cell_type": "code",
   "execution_count": 51,
   "metadata": {},
   "outputs": [
    {
     "data": {
      "image/png": "[encoded data removed]",
      "text/plain": [
       "<Figure size 640x480 with 1 Axes>"
      ]
     },
     "metadata": {},
     "output_type": "display_data"
    }
   ],
   "source": [
    "from matplotlib import pyplot as plt\n",
    "\n",
    "models_accuracy = {name: model.score(X_test, y_test) for name, model in best_models.items()}\n",
    "plt.bar(models_accuracy.keys(), models_accuracy.values())\n",
    "plt.xlabel('Model')\n",
    "plt.ylabel('Accuracy')\n",
    "plt.xticks(rotation=30)\n",
    "plt.show()"
   ]
  },
  {
   "cell_type": "markdown",
   "metadata": {},
   "source": [
    "Modal default không set các param"
   ]
  },
  {
   "cell_type": "code",
   "execution_count": 49,
   "metadata": {},
   "outputs": [
    {
     "name": "stdout",
     "output_type": "stream",
     "text": [
      "Model: Logistic Regression\n",
      "                   precision    recall  f1-score   support\n",
      "\n",
      "dangerous_content       0.92      0.80      0.85        59\n",
      "       harassment       0.38      0.27      0.31        52\n",
      "      hate_speech       0.51      0.59      0.54        83\n",
      "           normal       0.85      0.90      0.88       325\n",
      "sexaully_explixit       0.58      0.46      0.51        39\n",
      "\n",
      "         accuracy                           0.75       558\n",
      "        macro avg       0.65      0.60      0.62       558\n",
      "     weighted avg       0.75      0.75      0.75       558\n",
      "\n",
      "Model: Decision Tree Classifier\n",
      "                   precision    recall  f1-score   support\n",
      "\n",
      "dangerous_content       0.59      0.69      0.64        59\n",
      "       harassment       0.15      0.15      0.15        52\n",
      "      hate_speech       0.34      0.35      0.35        83\n",
      "           normal       0.77      0.73      0.75       325\n",
      "sexaully_explixit       0.24      0.26      0.25        39\n",
      "\n",
      "         accuracy                           0.58       558\n",
      "        macro avg       0.42      0.44      0.43       558\n",
      "     weighted avg       0.59      0.58      0.59       558\n",
      "\n",
      "Model: Random Forest Classifier\n",
      "                   precision    recall  f1-score   support\n",
      "\n",
      "dangerous_content       1.00      0.66      0.80        59\n",
      "       harassment       0.31      0.10      0.15        52\n",
      "      hate_speech       0.59      0.33      0.42        83\n",
      "           normal       0.73      0.99      0.84       325\n",
      "sexaully_explixit       0.77      0.26      0.38        39\n",
      "\n",
      "         accuracy                           0.72       558\n",
      "        macro avg       0.68      0.47      0.52       558\n",
      "     weighted avg       0.70      0.72      0.68       558\n",
      "\n",
      "Model: SVC\n",
      "                   precision    recall  f1-score   support\n",
      "\n",
      "dangerous_content       1.00      0.76      0.87        59\n",
      "       harassment       0.89      0.15      0.26        52\n",
      "      hate_speech       0.61      0.72      0.66        83\n",
      "           normal       0.82      0.98      0.89       325\n",
      "sexaully_explixit       0.88      0.38      0.54        39\n",
      "\n",
      "         accuracy                           0.80       558\n",
      "        macro avg       0.84      0.60      0.64       558\n",
      "     weighted avg       0.82      0.80      0.77       558\n",
      "\n"
     ]
    }
   ],
   "source": [
    "models = {\n",
    "    \"Logistic Regression\": LogisticRegression(),\n",
    "    \"Decision Tree Classifier\": DecisionTreeClassifier(),\n",
    "    \"Random Forest Classifier\": RandomForestClassifier(),\n",
    "    \"SVC\": SVC()\n",
    "}\n",
    "\n",
    "for name, model in models.items():\n",
    "    model.fit(X_train, y_train)\n",
    "    y_pred = model.predict(X_test)\n",
    "    print(f\"Model: {name}\")\n",
    "    print(classification_report(y_test, y_pred))"
   ]
  },
  {
   "cell_type": "code",
   "execution_count": 52,
   "metadata": {},
   "outputs": [
    {
     "data": {
      "image/png": "[encoded data removed]",
      "text/plain": [
       "<Figure size 640x480 with 1 Axes>"
      ]
     },
     "metadata": {},
     "output_type": "display_data"
    }
   ],
   "source": [
    "from matplotlib import pyplot as plt\n",
    "\n",
    "models_accuracy = {name: model.score(X_test, y_test) for name, model in models.items()}\n",
    "plt.bar(models_accuracy.keys(), models_accuracy.values())\n",
    "plt.xlabel('Model')\n",
    "plt.ylabel('Accuracy')\n",
    "plt.xticks(rotation=30)\n",
    "plt.show()"
   ]
  }
 ],
 "metadata": {
  "kernelspec": {
   "display_name": "Python 3 (ipykernel)",
   "language": "python",
   "name": "python3"
  },
  "language_info": {
   "codemirror_mode": {
    "name": "ipython",
    "version": 3
   },
   "file_extension": ".py",
   "mimetype": "text/x-python",
   "name": "python",
   "nbconvert_exporter": "python",
   "pygments_lexer": "ipython3",
   "version": "3.11.4"
  }
 },
 "nbformat": 4,
 "nbformat_minor": 2
}
